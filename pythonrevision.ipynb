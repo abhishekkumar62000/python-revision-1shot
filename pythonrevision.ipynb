{
 "cells": [
  {
   "cell_type": "code",
   "execution_count": 2,
   "id": "840841a1-8fc1-4d1a-81b0-7bbc224b6cdd",
   "metadata": {},
   "outputs": [
    {
     "name": "stdout",
     "output_type": "stream",
     "text": [
      "hello, this is the revision session of operator\n"
     ]
    }
   ],
   "source": [
    "print(\"hello, this is the revision session of operator\")"
   ]
  },
  {
   "cell_type": "markdown",
   "id": "5aa424a5-5f6f-4305-815c-10b29de4ee86",
   "metadata": {},
   "source": [
    "## OPERATOR"
   ]
  },
  {
   "cell_type": "code",
   "execution_count": 3,
   "id": "5f0c7308-c7b6-4019-8ec2-4f8b7123c697",
   "metadata": {},
   "outputs": [
    {
     "data": {
      "text/plain": [
       "20"
      ]
     },
     "execution_count": 3,
     "metadata": {},
     "output_type": "execute_result"
    }
   ],
   "source": [
    "10+10"
   ]
  },
  {
   "cell_type": "code",
   "execution_count": 4,
   "id": "28a3192a-c662-4ce4-9401-ea695a9a94f5",
   "metadata": {},
   "outputs": [
    {
     "data": {
      "text/plain": [
       "10"
      ]
     },
     "execution_count": 4,
     "metadata": {},
     "output_type": "execute_result"
    }
   ],
   "source": [
    "20-10"
   ]
  },
  {
   "cell_type": "code",
   "execution_count": 5,
   "id": "f188a594-dc31-4fa4-a961-c04521044790",
   "metadata": {},
   "outputs": [
    {
     "data": {
      "text/plain": [
       "100"
      ]
     },
     "execution_count": 5,
     "metadata": {},
     "output_type": "execute_result"
    }
   ],
   "source": [
    "10*10"
   ]
  },
  {
   "cell_type": "code",
   "execution_count": 6,
   "id": "783148db-8388-4f29-b8fe-a8e69b40f095",
   "metadata": {},
   "outputs": [
    {
     "data": {
      "text/plain": [
       "10.0"
      ]
     },
     "execution_count": 6,
     "metadata": {},
     "output_type": "execute_result"
    }
   ],
   "source": [
    "100/10"
   ]
  },
  {
   "cell_type": "code",
   "execution_count": 7,
   "id": "67b69467-c96e-4b6b-a53d-69c7a72d2660",
   "metadata": {},
   "outputs": [
    {
     "data": {
      "text/plain": [
       "1"
      ]
     },
     "execution_count": 7,
     "metadata": {},
     "output_type": "execute_result"
    }
   ],
   "source": [
    "4%3"
   ]
  },
  {
   "cell_type": "code",
   "execution_count": 8,
   "id": "2c91fa7b-a77c-42a4-8dc0-a66f9348f78d",
   "metadata": {},
   "outputs": [
    {
     "data": {
      "text/plain": [
       "0"
      ]
     },
     "execution_count": 8,
     "metadata": {},
     "output_type": "execute_result"
    }
   ],
   "source": [
    "12%3"
   ]
  },
  {
   "cell_type": "code",
   "execution_count": 9,
   "id": "5368e489-e536-4bbc-978d-40130e38fb1a",
   "metadata": {},
   "outputs": [
    {
     "data": {
      "text/plain": [
       "2"
      ]
     },
     "execution_count": 9,
     "metadata": {},
     "output_type": "execute_result"
    }
   ],
   "source": [
    "12%5"
   ]
  },
  {
   "cell_type": "code",
   "execution_count": 10,
   "id": "42954007-a3ef-42d1-91ba-1ccccacb70c5",
   "metadata": {},
   "outputs": [
    {
     "data": {
      "text/plain": [
       "1"
      ]
     },
     "execution_count": 10,
     "metadata": {},
     "output_type": "execute_result"
    }
   ],
   "source": [
    "4//3"
   ]
  },
  {
   "cell_type": "code",
   "execution_count": 11,
   "id": "f7037441-c17e-4c1e-b7a1-9c222323363b",
   "metadata": {},
   "outputs": [
    {
     "data": {
      "text/plain": [
       "4"
      ]
     },
     "execution_count": 11,
     "metadata": {},
     "output_type": "execute_result"
    }
   ],
   "source": [
    "2**2"
   ]
  },
  {
   "cell_type": "code",
   "execution_count": 12,
   "id": "65e2b808-a4a8-4889-bdd8-40259aabc046",
   "metadata": {},
   "outputs": [
    {
     "data": {
      "text/plain": [
       "256"
      ]
     },
     "execution_count": 12,
     "metadata": {},
     "output_type": "execute_result"
    }
   ],
   "source": [
    "4**4"
   ]
  },
  {
   "cell_type": "code",
   "execution_count": 13,
   "id": "13b54d3f-c5e4-46be-8a5e-4ba1a3aed5fe",
   "metadata": {},
   "outputs": [
    {
     "data": {
      "text/plain": [
       "False"
      ]
     },
     "execution_count": 13,
     "metadata": {},
     "output_type": "execute_result"
    }
   ],
   "source": [
    "1>2"
   ]
  },
  {
   "cell_type": "code",
   "execution_count": 14,
   "id": "713b9bcb-08bd-49e8-9f30-aab2e4d48c2f",
   "metadata": {},
   "outputs": [
    {
     "data": {
      "text/plain": [
       "True"
      ]
     },
     "execution_count": 14,
     "metadata": {},
     "output_type": "execute_result"
    }
   ],
   "source": [
    "22>10"
   ]
  },
  {
   "cell_type": "code",
   "execution_count": 15,
   "id": "3e5bffb4-cf41-40d9-b81a-24e9c16a37bd",
   "metadata": {},
   "outputs": [
    {
     "data": {
      "text/plain": [
       "False"
      ]
     },
     "execution_count": 15,
     "metadata": {},
     "output_type": "execute_result"
    }
   ],
   "source": [
    "11==1"
   ]
  },
  {
   "cell_type": "code",
   "execution_count": 16,
   "id": "770eda38-9ab6-42db-820d-d3d3602fbf00",
   "metadata": {},
   "outputs": [
    {
     "data": {
      "text/plain": [
       "True"
      ]
     },
     "execution_count": 16,
     "metadata": {},
     "output_type": "execute_result"
    }
   ],
   "source": [
    "11==11"
   ]
  },
  {
   "cell_type": "code",
   "execution_count": 17,
   "id": "2ac87727-37fa-435e-8ccf-c2e4c78e7634",
   "metadata": {},
   "outputs": [
    {
     "data": {
      "text/plain": [
       "False"
      ]
     },
     "execution_count": 17,
     "metadata": {},
     "output_type": "execute_result"
    }
   ],
   "source": [
    "11==12"
   ]
  },
  {
   "cell_type": "code",
   "execution_count": 18,
   "id": "db3fbd4a-4939-4c1b-a4f0-80201db9f43f",
   "metadata": {},
   "outputs": [
    {
     "data": {
      "text/plain": [
       "False"
      ]
     },
     "execution_count": 18,
     "metadata": {},
     "output_type": "execute_result"
    }
   ],
   "source": [
    "2!=2"
   ]
  },
  {
   "cell_type": "code",
   "execution_count": 19,
   "id": "e205877c-c764-477c-98b2-a9051bb8bdfc",
   "metadata": {},
   "outputs": [
    {
     "data": {
      "text/plain": [
       "True"
      ]
     },
     "execution_count": 19,
     "metadata": {},
     "output_type": "execute_result"
    }
   ],
   "source": [
    "2!=1"
   ]
  },
  {
   "cell_type": "code",
   "execution_count": 20,
   "id": "1f19dda4-28a3-4370-a4b8-bea4ed486ab2",
   "metadata": {},
   "outputs": [
    {
     "data": {
      "text/plain": [
       "True"
      ]
     },
     "execution_count": 20,
     "metadata": {},
     "output_type": "execute_result"
    }
   ],
   "source": [
    "2>=2"
   ]
  },
  {
   "cell_type": "code",
   "execution_count": 21,
   "id": "48bb6ac0-f087-450d-abfc-c39897ae1edd",
   "metadata": {},
   "outputs": [
    {
     "data": {
      "text/plain": [
       "True"
      ]
     },
     "execution_count": 21,
     "metadata": {},
     "output_type": "execute_result"
    }
   ],
   "source": [
    "2<=2"
   ]
  },
  {
   "cell_type": "code",
   "execution_count": 23,
   "id": "419b78e4-0eb0-4402-bdd6-14e529c76b32",
   "metadata": {},
   "outputs": [
    {
     "data": {
      "text/plain": [
       "False"
      ]
     },
     "execution_count": 23,
     "metadata": {},
     "output_type": "execute_result"
    }
   ],
   "source": [
    "True and False"
   ]
  },
  {
   "cell_type": "code",
   "execution_count": 24,
   "id": "0c665d6f-735e-474b-aaf9-90ad4464a5ab",
   "metadata": {},
   "outputs": [
    {
     "data": {
      "text/plain": [
       "False"
      ]
     },
     "execution_count": 24,
     "metadata": {},
     "output_type": "execute_result"
    }
   ],
   "source": [
    "False and True"
   ]
  },
  {
   "cell_type": "code",
   "execution_count": 26,
   "id": "67aaacbb-fc7e-4456-9328-d4bfc97fee47",
   "metadata": {},
   "outputs": [
    {
     "data": {
      "text/plain": [
       "True"
      ]
     },
     "execution_count": 26,
     "metadata": {},
     "output_type": "execute_result"
    }
   ],
   "source": [
    "True and True"
   ]
  },
  {
   "cell_type": "code",
   "execution_count": 27,
   "id": "ab8be4e4-768d-4d57-9606-4258dc839e55",
   "metadata": {},
   "outputs": [
    {
     "data": {
      "text/plain": [
       "False"
      ]
     },
     "execution_count": 27,
     "metadata": {},
     "output_type": "execute_result"
    }
   ],
   "source": [
    "not True "
   ]
  },
  {
   "cell_type": "code",
   "execution_count": 28,
   "id": "b0172e7a-02a8-46f8-8954-f5a0ac63f972",
   "metadata": {},
   "outputs": [
    {
     "data": {
      "text/plain": [
       "True"
      ]
     },
     "execution_count": 28,
     "metadata": {},
     "output_type": "execute_result"
    }
   ],
   "source": [
    "not False"
   ]
  },
  {
   "cell_type": "markdown",
   "id": "d56ee2ae-5323-452e-8c94-f56a82620aca",
   "metadata": {},
   "source": [
    "### BITWISE OPERATOR"
   ]
  },
  {
   "cell_type": "code",
   "execution_count": 29,
   "id": "f3a0060b-df4b-4f76-ae8a-fab2b5b47cf2",
   "metadata": {},
   "outputs": [
    {
     "data": {
      "text/plain": [
       "10"
      ]
     },
     "execution_count": 29,
     "metadata": {},
     "output_type": "execute_result"
    }
   ],
   "source": [
    "10 & 10"
   ]
  },
  {
   "cell_type": "code",
   "execution_count": 35,
   "id": "603b2ab8-7d30-4174-97b2-7be16ddda053",
   "metadata": {},
   "outputs": [
    {
     "data": {
      "text/plain": [
       "3"
      ]
     },
     "execution_count": 35,
     "metadata": {},
     "output_type": "execute_result"
    }
   ],
   "source": [
    "23 & 3"
   ]
  },
  {
   "cell_type": "code",
   "execution_count": 31,
   "id": "456a8edb-ebab-4132-95f6-d44f84f0bd08",
   "metadata": {},
   "outputs": [
    {
     "data": {
      "text/plain": [
       "0"
      ]
     },
     "execution_count": 31,
     "metadata": {},
     "output_type": "execute_result"
    }
   ],
   "source": [
    "24&4"
   ]
  },
  {
   "cell_type": "code",
   "execution_count": null,
   "id": "6f16e884-2bc2-4b90-b62e-713986137cb8",
   "metadata": {},
   "outputs": [],
   "source": []
  },
  {
   "cell_type": "code",
   "execution_count": 34,
   "id": "2864febc-947d-423f-8e75-db5e0350fc20",
   "metadata": {},
   "outputs": [
    {
     "data": {
      "text/plain": [
       "1"
      ]
     },
     "execution_count": 34,
     "metadata": {},
     "output_type": "execute_result"
    }
   ],
   "source": [
    "25 & 5"
   ]
  },
  {
   "cell_type": "code",
   "execution_count": 36,
   "id": "63f7460b-50b8-4720-ace9-46abc6b7ac19",
   "metadata": {},
   "outputs": [
    {
     "data": {
      "text/plain": [
       "'0b1010'"
      ]
     },
     "execution_count": 36,
     "metadata": {},
     "output_type": "execute_result"
    }
   ],
   "source": [
    "bin(10)"
   ]
  },
  {
   "cell_type": "code",
   "execution_count": 37,
   "id": "b3496822-6431-4b28-aa33-df1f7ac79e11",
   "metadata": {},
   "outputs": [
    {
     "data": {
      "text/plain": [
       "'0o12'"
      ]
     },
     "execution_count": 37,
     "metadata": {},
     "output_type": "execute_result"
    }
   ],
   "source": [
    "oct(10)"
   ]
  },
  {
   "cell_type": "code",
   "execution_count": 38,
   "id": "97844b0b-5987-436e-aa83-d178a2e4109d",
   "metadata": {},
   "outputs": [
    {
     "data": {
      "text/plain": [
       "'0b10111'"
      ]
     },
     "execution_count": 38,
     "metadata": {},
     "output_type": "execute_result"
    }
   ],
   "source": [
    "bin(23)"
   ]
  },
  {
   "cell_type": "code",
   "execution_count": 39,
   "id": "60f0ba13-9827-45c7-8174-ab64ae023cdf",
   "metadata": {},
   "outputs": [
    {
     "data": {
      "text/plain": [
       "'0b11'"
      ]
     },
     "execution_count": 39,
     "metadata": {},
     "output_type": "execute_result"
    }
   ],
   "source": [
    "bin(3)"
   ]
  },
  {
   "cell_type": "code",
   "execution_count": 40,
   "id": "7d4969ae-258f-4ad8-bfc0-aa1eceeebe30",
   "metadata": {},
   "outputs": [
    {
     "data": {
      "text/plain": [
       "54"
      ]
     },
     "execution_count": 40,
     "metadata": {},
     "output_type": "execute_result"
    }
   ],
   "source": [
    "34 | 22"
   ]
  },
  {
   "cell_type": "code",
   "execution_count": 41,
   "id": "85baec46-6f85-4e8a-a6f1-5ed3165806d4",
   "metadata": {},
   "outputs": [
    {
     "data": {
      "text/plain": [
       "55"
      ]
     },
     "execution_count": 41,
     "metadata": {},
     "output_type": "execute_result"
    }
   ],
   "source": [
    "34 | 23"
   ]
  },
  {
   "cell_type": "code",
   "execution_count": 42,
   "id": "fb7909d1-84eb-41c7-bab8-9bd1d9b208b2",
   "metadata": {},
   "outputs": [
    {
     "data": {
      "text/plain": [
       "'-0b100010'"
      ]
     },
     "execution_count": 42,
     "metadata": {},
     "output_type": "execute_result"
    }
   ],
   "source": [
    "bin(-34)"
   ]
  },
  {
   "cell_type": "code",
   "execution_count": 43,
   "id": "199a5799-b462-43d7-9342-8c2edb2a3729",
   "metadata": {},
   "outputs": [
    {
     "data": {
      "text/plain": [
       "'0b100010'"
      ]
     },
     "execution_count": 43,
     "metadata": {},
     "output_type": "execute_result"
    }
   ],
   "source": [
    "bin(34)"
   ]
  },
  {
   "cell_type": "code",
   "execution_count": 44,
   "id": "ebeb3fe0-cb97-49f1-8059-b05a6fdfb00c",
   "metadata": {},
   "outputs": [
    {
     "data": {
      "text/plain": [
       "'-0b100010'"
      ]
     },
     "execution_count": 44,
     "metadata": {},
     "output_type": "execute_result"
    }
   ],
   "source": [
    "bin(-34)"
   ]
  },
  {
   "cell_type": "code",
   "execution_count": 45,
   "id": "74c31696-6d17-4819-9d9e-0a5c45859022",
   "metadata": {},
   "outputs": [
    {
     "data": {
      "text/plain": [
       "7"
      ]
     },
     "execution_count": 45,
     "metadata": {},
     "output_type": "execute_result"
    }
   ],
   "source": [
    "30 >> 2"
   ]
  },
  {
   "cell_type": "code",
   "execution_count": 46,
   "id": "f5765884-8357-4022-9d87-05a25eb58abd",
   "metadata": {},
   "outputs": [
    {
     "data": {
      "text/plain": [
       "'0b11'"
      ]
     },
     "execution_count": 46,
     "metadata": {},
     "output_type": "execute_result"
    }
   ],
   "source": [
    "bin(3)"
   ]
  },
  {
   "cell_type": "code",
   "execution_count": 47,
   "id": "efe59dfd-6c2e-4bc7-bb1c-7b26a61d45bd",
   "metadata": {},
   "outputs": [
    {
     "data": {
      "text/plain": [
       "'0b100'"
      ]
     },
     "execution_count": 47,
     "metadata": {},
     "output_type": "execute_result"
    }
   ],
   "source": [
    "bin(4)"
   ]
  },
  {
   "cell_type": "code",
   "execution_count": 48,
   "id": "7bbb03b9-eeec-4e3c-a5eb-c9e6d262b87c",
   "metadata": {},
   "outputs": [
    {
     "data": {
      "text/plain": [
       "280"
      ]
     },
     "execution_count": 48,
     "metadata": {},
     "output_type": "execute_result"
    }
   ],
   "source": [
    "35<<3"
   ]
  },
  {
   "cell_type": "code",
   "execution_count": 49,
   "id": "cc22fc06-4e0a-4b32-b746-f936a6cb0f9c",
   "metadata": {},
   "outputs": [
    {
     "data": {
      "text/plain": [
       "'0b100011'"
      ]
     },
     "execution_count": 49,
     "metadata": {},
     "output_type": "execute_result"
    }
   ],
   "source": [
    "bin(35)"
   ]
  },
  {
   "cell_type": "code",
   "execution_count": 50,
   "id": "a31885c3-0d4f-4169-bd01-26735a7597c6",
   "metadata": {},
   "outputs": [
    {
     "data": {
      "text/plain": [
       "'0b100100001'"
      ]
     },
     "execution_count": 50,
     "metadata": {},
     "output_type": "execute_result"
    }
   ],
   "source": [
    "bin(289)"
   ]
  },
  {
   "cell_type": "markdown",
   "id": "3e01afd0-8b1c-49d6-a014-0e6f92fa92ee",
   "metadata": {},
   "source": [
    "### ASSIGNMENT OPERATOR"
   ]
  },
  {
   "cell_type": "code",
   "execution_count": 60,
   "id": "ca89a29c-a615-4fe0-9bbd-746a358836a7",
   "metadata": {},
   "outputs": [],
   "source": [
    "a = 10"
   ]
  },
  {
   "cell_type": "code",
   "execution_count": 61,
   "id": "fa619afd-5006-4cfa-b6bf-e8c3a10261ba",
   "metadata": {},
   "outputs": [
    {
     "data": {
      "text/plain": [
       "10"
      ]
     },
     "execution_count": 61,
     "metadata": {},
     "output_type": "execute_result"
    }
   ],
   "source": [
    "a"
   ]
  },
  {
   "cell_type": "code",
   "execution_count": 62,
   "id": "3a619a51-c504-41df-9e0c-ee7765fef9b8",
   "metadata": {},
   "outputs": [],
   "source": [
    "a = a + 2"
   ]
  },
  {
   "cell_type": "code",
   "execution_count": 63,
   "id": "42668684-660d-4b90-9fdc-58f064f2caa8",
   "metadata": {},
   "outputs": [
    {
     "data": {
      "text/plain": [
       "12"
      ]
     },
     "execution_count": 63,
     "metadata": {},
     "output_type": "execute_result"
    }
   ],
   "source": [
    "a"
   ]
  },
  {
   "cell_type": "code",
   "execution_count": 64,
   "id": "abae0de3-8af2-42f3-a704-3218c7399747",
   "metadata": {},
   "outputs": [],
   "source": [
    "a = a+10"
   ]
  },
  {
   "cell_type": "code",
   "execution_count": 65,
   "id": "9da69d32-591b-449e-9d82-17c53a4e1b0b",
   "metadata": {},
   "outputs": [
    {
     "data": {
      "text/plain": [
       "22"
      ]
     },
     "execution_count": 65,
     "metadata": {},
     "output_type": "execute_result"
    }
   ],
   "source": [
    "a"
   ]
  },
  {
   "cell_type": "code",
   "execution_count": 66,
   "id": "0ac9cc3b-ac53-44a1-85d5-d1b45286c5f6",
   "metadata": {},
   "outputs": [],
   "source": [
    "a+=2"
   ]
  },
  {
   "cell_type": "code",
   "execution_count": 67,
   "id": "5b311c9b-3703-474d-a46f-b26ad107ba1f",
   "metadata": {},
   "outputs": [
    {
     "data": {
      "text/plain": [
       "24"
      ]
     },
     "execution_count": 67,
     "metadata": {},
     "output_type": "execute_result"
    }
   ],
   "source": [
    "a"
   ]
  },
  {
   "cell_type": "code",
   "execution_count": 68,
   "id": "8807ac02-86df-45c2-bbac-1e630b107d2c",
   "metadata": {},
   "outputs": [],
   "source": [
    "a-=2"
   ]
  },
  {
   "cell_type": "code",
   "execution_count": 69,
   "id": "a4d3f1fb-47c4-4d1d-b26b-9d867f89c911",
   "metadata": {},
   "outputs": [
    {
     "data": {
      "text/plain": [
       "22"
      ]
     },
     "execution_count": 69,
     "metadata": {},
     "output_type": "execute_result"
    }
   ],
   "source": [
    "a"
   ]
  },
  {
   "cell_type": "code",
   "execution_count": 70,
   "id": "b7cdf1f2-6198-436e-add7-cf717cd7c408",
   "metadata": {},
   "outputs": [],
   "source": [
    "a-=2"
   ]
  },
  {
   "cell_type": "code",
   "execution_count": 71,
   "id": "5a770331-423f-45b6-8a32-098165c16108",
   "metadata": {},
   "outputs": [
    {
     "data": {
      "text/plain": [
       "20"
      ]
     },
     "execution_count": 71,
     "metadata": {},
     "output_type": "execute_result"
    }
   ],
   "source": [
    "a"
   ]
  },
  {
   "cell_type": "code",
   "execution_count": null,
   "id": "1675d680-130e-49d4-a327-80e415d829f5",
   "metadata": {},
   "outputs": [],
   "source": []
  },
  {
   "cell_type": "markdown",
   "id": "6f9142ab-3b78-4837-be45-8c5899bf36d8",
   "metadata": {},
   "source": [
    "## Control statement\n",
    "if,if else, while, loop, for loop, range"
   ]
  },
  {
   "cell_type": "code",
   "execution_count": 73,
   "id": "3454d547-4846-41fb-ac32-8ed252d23816",
   "metadata": {},
   "outputs": [],
   "source": [
    "a = 10\n",
    "if a>10:\n",
    "    pass"
   ]
  },
  {
   "cell_type": "code",
   "execution_count": 74,
   "id": "efd63105-90b5-4594-83c1-36e406dd34c0",
   "metadata": {},
   "outputs": [
    {
     "data": {
      "text/plain": [
       "10"
      ]
     },
     "execution_count": 74,
     "metadata": {},
     "output_type": "execute_result"
    }
   ],
   "source": [
    "a"
   ]
  },
  {
   "cell_type": "code",
   "execution_count": 75,
   "id": "f6884d71-c6c7-4901-9af1-5a6409626a61",
   "metadata": {},
   "outputs": [
    {
     "data": {
      "text/plain": [
       "False"
      ]
     },
     "execution_count": 75,
     "metadata": {},
     "output_type": "execute_result"
    }
   ],
   "source": [
    "a>10"
   ]
  },
  {
   "cell_type": "code",
   "execution_count": 79,
   "id": "b52ea355-eb91-4297-93cf-fbaebbbebd42",
   "metadata": {},
   "outputs": [],
   "source": [
    "a = 10\n",
    "if a>10:\n",
    "    print(\"this will execute once a greater than 10\")"
   ]
  },
  {
   "cell_type": "code",
   "execution_count": 80,
   "id": "7194d839-d3df-4bf3-8dfc-749cf76775c2",
   "metadata": {},
   "outputs": [
    {
     "data": {
      "text/plain": [
       "False"
      ]
     },
     "execution_count": 80,
     "metadata": {},
     "output_type": "execute_result"
    }
   ],
   "source": [
    "a>10"
   ]
  },
  {
   "cell_type": "code",
   "execution_count": 83,
   "id": "a937d466-38b3-4b0b-8e84-27203ee83c16",
   "metadata": {},
   "outputs": [
    {
     "name": "stdout",
     "output_type": "stream",
     "text": [
      "this will execute once if will not be able to perform\n"
     ]
    }
   ],
   "source": [
    "a = 10\n",
    "if a>10:\n",
    "    print(\"this will execute once a greater then 10\")\n",
    "else:\n",
    "    print(\"this will execute once if will not be able to perform\")"
   ]
  },
  {
   "cell_type": "code",
   "execution_count": 84,
   "id": "8eb5fef7-e61a-4cf4-8ebb-fd5dc8db029a",
   "metadata": {},
   "outputs": [
    {
     "name": "stdout",
     "output_type": "stream",
     "text": [
      "this isw try to check a condition for a where a cold be 10 or lesser\n"
     ]
    }
   ],
   "source": [
    "a = 10\n",
    "if a>10:\n",
    "    print(\"this will execute once a greater then 10\")\n",
    "elif a<=10:\n",
    "    print(\"this is try to check a condition for a where a cold be 10 or lesser\")\n",
    "else:\n",
    "    print(\"this will execute once if will not be able to perform\")"
   ]
  },
  {
   "cell_type": "code",
   "execution_count": 87,
   "id": "e7a47166-dcb5-44aa-a571-3aa84d63944c",
   "metadata": {},
   "outputs": [
    {
     "name": "stdout",
     "output_type": "stream",
     "text": [
      "this is try to check a condition fo0r a where a cold be 20 or lesser\n"
     ]
    }
   ],
   "source": [
    "b = 20\n",
    "if b>25:\n",
    "    print(\"this will execute greater then 20\")\n",
    "elif b<=20:\n",
    "    print(\"this is try to check a condition fo0r a where a cold be 20 or lesser\")\n",
    "else:\n",
    "    print(\"this will execute once if will not be able to perform\")"
   ]
  },
  {
   "cell_type": "code",
   "execution_count": 88,
   "id": "df6180af-2b6d-4198-866a-442da382c6af",
   "metadata": {},
   "outputs": [
    {
     "name": "stdin",
     "output_type": "stream",
     "text": [
      "Enter ta value for a  9\n"
     ]
    },
    {
     "name": "stdout",
     "output_type": "stream",
     "text": [
      "this is try to check a condition for a where a cold be 10 or lesser\n"
     ]
    }
   ],
   "source": [
    "a = int(input(\"Enter ta value for a \"))\n",
    "if a>10:\n",
    "    print(\"this will execute once a greater then 10\")\n",
    "elif a<=10:\n",
    "    print(\"this is try to check a condition for a where a cold be 10 or lesser\")\n",
    "else:\n",
    "    print(\"this will execute once if will not be able to perform\")"
   ]
  },
  {
   "cell_type": "code",
   "execution_count": 1,
   "id": "4b656d7c-bceb-4ab5-88be-263e7b9f35b5",
   "metadata": {},
   "outputs": [
    {
     "name": "stdin",
     "output_type": "stream",
     "text": [
      "Enter ta value for a  20\n"
     ]
    },
    {
     "name": "stdout",
     "output_type": "stream",
     "text": [
      "this will execute once a greater then 10\n"
     ]
    }
   ],
   "source": [
    "a = int(input(\"Enter ta value for a \"))\n",
    "if a>10:\n",
    "    print(\"this will execute once a greater then 10\")\n",
    "elif a <= 10:\n",
    "    print(\"this is try to check a condition for a where a cold be 10 or lesser\")\n",
    "else:\n",
    "    print(\"this will execute once if will not be able to perform\")"
   ]
  },
  {
   "cell_type": "markdown",
   "id": "13b146c3-ae02-4035-ab35-cc598e5c5546",
   "metadata": {},
   "source": [
    "## LOOP ()"
   ]
  },
  {
   "cell_type": "code",
   "execution_count": 1,
   "id": "d9b7d41a-01f6-49dc-b119-cc268076886e",
   "metadata": {},
   "outputs": [
    {
     "name": "stdout",
     "output_type": "stream",
     "text": [
      "1\n",
      "2\n",
      "3\n",
      "4\n",
      "5\n",
      "6\n",
      "7\n",
      "8\n",
      "9\n"
     ]
    }
   ],
   "source": [
    "n = 10\n",
    "i = 1\n",
    "\n",
    "while i<n:\n",
    "    print(i)\n",
    "    i = i+1"
   ]
  },
  {
   "cell_type": "code",
   "execution_count": 3,
   "id": "151ec0ff-3e08-48b0-9544-84ca714591ae",
   "metadata": {},
   "outputs": [
    {
     "name": "stdout",
     "output_type": "stream",
     "text": [
      "2\n",
      "4\n",
      "6\n",
      "8\n"
     ]
    }
   ],
   "source": [
    "n = 10\n",
    "i = 2\n",
    "\n",
    "while i<n:\n",
    "    print(i)\n",
    "    i = i+2"
   ]
  },
  {
   "cell_type": "code",
   "execution_count": 6,
   "id": "f60848b3-54bc-44a9-bd45-346ce052a04c",
   "metadata": {},
   "outputs": [
    {
     "name": "stdout",
     "output_type": "stream",
     "text": [
      "2\n",
      "4\n",
      "6\n",
      "8\n",
      "10\n",
      "12\n",
      "14\n",
      "16\n",
      "18\n",
      "20\n"
     ]
    }
   ],
   "source": [
    "n = 22\n",
    "i = 2\n",
    "\n",
    "while i<n:\n",
    "    print(i)\n",
    "    i = i+2"
   ]
  },
  {
   "cell_type": "code",
   "execution_count": 10,
   "id": "1ef36ee6-5ea0-434d-b16b-a49264addb10",
   "metadata": {},
   "outputs": [
    {
     "name": "stdout",
     "output_type": "stream",
     "text": [
      "1\n",
      "2\n",
      "3\n",
      "4\n",
      "5\n",
      "6\n",
      "7\n"
     ]
    }
   ],
   "source": [
    "n = 10\n",
    "i = 1\n",
    "\n",
    "while i<n:\n",
    "    print(i)\n",
    "    i = i+1\n",
    "    if i == 8:\n",
    "        break\n",
    "else :\n",
    "    print(\"this will execute once while will complete it sucessfully\")"
   ]
  },
  {
   "cell_type": "code",
   "execution_count": 11,
   "id": "4908fc83-62b6-4238-a518-bba74e054328",
   "metadata": {},
   "outputs": [
    {
     "name": "stdout",
     "output_type": "stream",
     "text": [
      "1\n",
      "2\n",
      "3\n"
     ]
    }
   ],
   "source": [
    "n = 10\n",
    "i = 1\n",
    "\n",
    "while i<n:\n",
    "    print(i)\n",
    "    i = i+1\n",
    "    if i == 4:\n",
    "        break\n",
    "else :\n",
    "    print(\"this will execute once while will complete it sucessfully\")"
   ]
  },
  {
   "cell_type": "code",
   "execution_count": 20,
   "id": "929b4522-d30c-4498-852d-a6531825a2eb",
   "metadata": {},
   "outputs": [
    {
     "name": "stdout",
     "output_type": "stream",
     "text": [
      "2\n",
      "4\n",
      "5\n",
      "6\n",
      "7\n",
      "8\n",
      "9\n",
      "10\n",
      "this will execute once while will complete it sucessfully\n"
     ]
    }
   ],
   "source": [
    "n = 10\n",
    "i = 1\n",
    "\n",
    "while i<n:\n",
    "    \n",
    "    i = i+1\n",
    "    if i == 3:\n",
    "        continue\n",
    "    print(i)\n",
    "        \n",
    "else :\n",
    "    print(\"this will execute once while will complete it sucessfully\")"
   ]
  },
  {
   "cell_type": "code",
   "execution_count": 22,
   "id": "d3743c8a-7711-4164-b377-5a8c44926b98",
   "metadata": {},
   "outputs": [
    {
     "name": "stdout",
     "output_type": "stream",
     "text": [
      "1\n",
      "2\n",
      "3\n",
      "4\n",
      "5\n",
      "6\n",
      "7\n",
      "8\n",
      "9\n",
      "this will execute once while will complete it sucessfully\n"
     ]
    }
   ],
   "source": [
    "n = 10\n",
    "i = 1\n",
    "\n",
    "while i<n:\n",
    "    print(i)\n",
    "    i = i+1\n",
    "    if i == 5:\n",
    "        continue\n",
    "else :\n",
    "    print(\"this will execute once while will complete it sucessfully\")"
   ]
  },
  {
   "cell_type": "code",
   "execution_count": null,
   "id": "0c10375e-4a09-40b9-b8f5-33135736ffff",
   "metadata": {},
   "outputs": [],
   "source": []
  },
  {
   "cell_type": "markdown",
   "id": "2a8d77e3-b072-4a1c-bc8e-d919fc65256c",
   "metadata": {},
   "source": [
    "## for loop:-()"
   ]
  },
  {
   "cell_type": "code",
   "execution_count": 23,
   "id": "4dd3e96e-1c2b-46e4-945a-597285c5d566",
   "metadata": {},
   "outputs": [],
   "source": [
    "s = \"sudh\"\n"
   ]
  },
  {
   "cell_type": "code",
   "execution_count": 27,
   "id": "b410d0ce-4a83-4a21-a9e0-a8e823a5a53a",
   "metadata": {},
   "outputs": [
    {
     "name": "stdout",
     "output_type": "stream",
     "text": [
      "s\n",
      "u\n",
      "d\n",
      "h\n"
     ]
    }
   ],
   "source": [
    "for i in s:\n",
    "    print(i)"
   ]
  },
  {
   "cell_type": "code",
   "execution_count": 31,
   "id": "29502f18-a25f-4109-95b0-e4760f3aeb93",
   "metadata": {},
   "outputs": [],
   "source": [
    "a = \"abhishek kumar yadav\""
   ]
  },
  {
   "cell_type": "code",
   "execution_count": 32,
   "id": "81ad1145-e4d9-4b56-ada8-306049616e84",
   "metadata": {},
   "outputs": [
    {
     "name": "stdout",
     "output_type": "stream",
     "text": [
      "a\n",
      "b\n",
      "h\n",
      "i\n",
      "s\n",
      "h\n",
      "e\n",
      "k\n",
      " \n",
      "k\n",
      "u\n",
      "m\n",
      "a\n",
      "r\n",
      " \n",
      "y\n",
      "a\n",
      "d\n",
      "a\n",
      "v\n"
     ]
    }
   ],
   "source": [
    "for i in a:\n",
    "    print(i)"
   ]
  },
  {
   "cell_type": "code",
   "execution_count": 33,
   "id": "16dc474b-5294-4cb4-ac2c-66cacba9fa50",
   "metadata": {},
   "outputs": [],
   "source": [
    "l = [\"abhi\",\"yadav\",1234,11,22,33,True, False, 5+5j]"
   ]
  },
  {
   "cell_type": "code",
   "execution_count": 34,
   "id": "1e33b1e1-e523-454c-9f74-75785aa7228e",
   "metadata": {},
   "outputs": [
    {
     "name": "stdout",
     "output_type": "stream",
     "text": [
      "abhi\n",
      "yadav\n",
      "1234\n",
      "11\n",
      "22\n",
      "33\n",
      "True\n",
      "False\n",
      "(5+5j)\n"
     ]
    }
   ],
   "source": [
    "for i in l:\n",
    "    print(i)"
   ]
  },
  {
   "cell_type": "code",
   "execution_count": 35,
   "id": "4a28509f-84f6-4532-be92-66b96a58256b",
   "metadata": {},
   "outputs": [],
   "source": [
    "l = [\"abhi\",\"yadav\",1234,11,22,33,True, False, 5+5j]"
   ]
  },
  {
   "cell_type": "code",
   "execution_count": 40,
   "id": "455f6d21-d95e-4eb6-a5cd-b5f52f135c4c",
   "metadata": {},
   "outputs": [
    {
     "name": "stdout",
     "output_type": "stream",
     "text": [
      "abhi\n",
      "yadav\n",
      "1234\n",
      "11\n",
      "22\n",
      "33\n",
      "True\n",
      "False\n",
      "(5+5j)\n",
      "this will execute once for loop will complete itself successfully\n"
     ]
    }
   ],
   "source": [
    "for j in l:\n",
    "    print(j)\n",
    "else:\n",
    "    print(\"this will execute once for loop will complete itself successfully\")"
   ]
  },
  {
   "cell_type": "code",
   "execution_count": null,
   "id": "a31ce071-4059-4d55-be53-d7bc1be4c394",
   "metadata": {},
   "outputs": [],
   "source": [
    "l = [\"abhi\",\"yadav\",1234,11,22,33,True, False, 5+5j]"
   ]
  },
  {
   "cell_type": "code",
   "execution_count": 41,
   "id": "b4c7cd04-30a2-4c8f-a14c-ddaebf9214d5",
   "metadata": {},
   "outputs": [
    {
     "name": "stdout",
     "output_type": "stream",
     "text": [
      "abhi\n",
      "yadav\n"
     ]
    }
   ],
   "source": [
    "for j in l:\n",
    "    print(j)\n",
    "    if j == \"yadav\":\n",
    "        break\n",
    "else:\n",
    "    print(\"this will execute once for loop will complete itself successfully\")"
   ]
  },
  {
   "cell_type": "code",
   "execution_count": 43,
   "id": "a9ea6b7e-916e-4ee4-8961-a1255246b00b",
   "metadata": {},
   "outputs": [],
   "source": [
    "l = [\"abhi\",\"yadav\",1234,11,22,33,True, False, 5+5j]"
   ]
  },
  {
   "cell_type": "code",
   "execution_count": 47,
   "id": "56447866-224e-46da-bf1f-ea4c6aae532e",
   "metadata": {},
   "outputs": [
    {
     "name": "stdout",
     "output_type": "stream",
     "text": [
      "abhi\n",
      "yadav\n",
      "1234\n",
      "11\n",
      "22\n",
      "33\n",
      "True\n"
     ]
    }
   ],
   "source": [
    "for j in l:\n",
    "    print(j)\n",
    "    if j == True:\n",
    "        break\n",
    "else:\n",
    "    print(\"this will execute once for loop will complete itself successfully\")"
   ]
  },
  {
   "cell_type": "code",
   "execution_count": 48,
   "id": "6926bb28-6a3e-46eb-b8fc-ca7195742edd",
   "metadata": {},
   "outputs": [],
   "source": [
    "l = [\"abhi\",\"yadav\",1234,11,22,33,True, False, 5+5j]"
   ]
  },
  {
   "cell_type": "code",
   "execution_count": 49,
   "id": "c412e7b2-cc4c-4374-a892-9acca040e655",
   "metadata": {},
   "outputs": [
    {
     "name": "stdout",
     "output_type": "stream",
     "text": [
      "abhi\n",
      "yadav\n",
      "1234\n",
      "11\n",
      "22\n",
      "33\n",
      "True\n",
      "False\n",
      "(5+5j)\n",
      "this will execute once for loop will complete itself successfully\n"
     ]
    }
   ],
   "source": [
    "for j in l:\n",
    "    print(j)\n",
    "    if j == True:\n",
    "        continue\n",
    "else:\n",
    "    print(\"this will execute once for loop will complete itself successfully\")"
   ]
  },
  {
   "cell_type": "code",
   "execution_count": 53,
   "id": "b0582961-5e3c-467a-a1b5-aaf27fa6c22b",
   "metadata": {},
   "outputs": [
    {
     "data": {
      "text/plain": [
       "[0, 1, 2, 3, 4, 5, 6, 7, 8, 9]"
      ]
     },
     "execution_count": 53,
     "metadata": {},
     "output_type": "execute_result"
    }
   ],
   "source": [
    "list(range(10))"
   ]
  },
  {
   "cell_type": "code",
   "execution_count": 54,
   "id": "5919cd5f-817e-414a-be47-9a2f3074e4e8",
   "metadata": {},
   "outputs": [
    {
     "data": {
      "text/plain": [
       "[10, 11, 12, 13, 14, 15, 16, 17, 18, 19]"
      ]
     },
     "execution_count": 54,
     "metadata": {},
     "output_type": "execute_result"
    }
   ],
   "source": [
    "list(range(10,20))"
   ]
  },
  {
   "cell_type": "code",
   "execution_count": 59,
   "id": "ec2a5f87-58f4-4c7d-b125-d43bee807164",
   "metadata": {},
   "outputs": [
    {
     "data": {
      "text/plain": [
       "(1, 2, 3, 4, 5, 6, 7, 8, 9, 10, 11, 12, 13, 14, 15, 16, 17, 18, 19)"
      ]
     },
     "execution_count": 59,
     "metadata": {},
     "output_type": "execute_result"
    }
   ],
   "source": [
    "tuple(range(1,20))"
   ]
  },
  {
   "cell_type": "code",
   "execution_count": 1,
   "id": "db1b9089-f9f6-46e5-a6a8-32f9c9ec8983",
   "metadata": {},
   "outputs": [
    {
     "data": {
      "text/plain": [
       "[0, 1, 2, 3, 4, 5, 6, 7, 8, 9, 10, 11, 12, 13, 14, 15, 16, 17, 18, 19]"
      ]
     },
     "execution_count": 1,
     "metadata": {},
     "output_type": "execute_result"
    }
   ],
   "source": [
    "list(range(20))"
   ]
  },
  {
   "cell_type": "code",
   "execution_count": null,
   "id": "a07cd6ce-ef22-425d-ae64-04bc44a9e239",
   "metadata": {},
   "outputs": [],
   "source": []
  },
  {
   "cell_type": "code",
   "execution_count": null,
   "id": "3ee56832-c3ba-4cf1-b0a9-023ddc7b6459",
   "metadata": {},
   "outputs": [],
   "source": []
  },
  {
   "cell_type": "markdown",
   "id": "f00f7f81-a5fe-4c4f-a1c0-619d08aa7684",
   "metadata": {},
   "source": [
    "## Tuple ()"
   ]
  },
  {
   "cell_type": "code",
   "execution_count": 3,
   "id": "8e42e95d-6f73-4824-ab9d-ce294695dfce",
   "metadata": {},
   "outputs": [],
   "source": [
    "t = ()"
   ]
  },
  {
   "cell_type": "code",
   "execution_count": 4,
   "id": "fb4a148f-6ab3-4a90-8d7e-980eae8f041f",
   "metadata": {},
   "outputs": [
    {
     "data": {
      "text/plain": [
       "tuple"
      ]
     },
     "execution_count": 4,
     "metadata": {},
     "output_type": "execute_result"
    }
   ],
   "source": [
    "type(t)"
   ]
  },
  {
   "cell_type": "code",
   "execution_count": 5,
   "id": "23e60f5a-ea7e-419c-8a0a-d2d728c6a617",
   "metadata": {},
   "outputs": [],
   "source": [
    "t1 = [1,2,3,45,66,\"abhishek\",\"yadav\",45+5j, True, False]"
   ]
  },
  {
   "cell_type": "code",
   "execution_count": 6,
   "id": "8abb6496-d151-4550-b034-51c9d44d9bf4",
   "metadata": {},
   "outputs": [
    {
     "data": {
      "text/plain": [
       "list"
      ]
     },
     "execution_count": 6,
     "metadata": {},
     "output_type": "execute_result"
    }
   ],
   "source": [
    "type(t1)"
   ]
  },
  {
   "cell_type": "code",
   "execution_count": 7,
   "id": "4a367965-371f-4cbd-b947-daf3b9f5535e",
   "metadata": {},
   "outputs": [],
   "source": [
    "t1 = (1,2,3,45,66,\"abhishek\",\"yadav\",45+5j, True, False)"
   ]
  },
  {
   "cell_type": "code",
   "execution_count": 8,
   "id": "690f902a-0d0e-4b2f-b716-3734b073e15a",
   "metadata": {},
   "outputs": [
    {
     "data": {
      "text/plain": [
       "tuple"
      ]
     },
     "execution_count": 8,
     "metadata": {},
     "output_type": "execute_result"
    }
   ],
   "source": [
    "type(t1)"
   ]
  },
  {
   "cell_type": "code",
   "execution_count": 11,
   "id": "7995a2bd-9f5a-410c-9bd1-038d8f6ce7f7",
   "metadata": {},
   "outputs": [],
   "source": [
    "l = (1,2,34,5)"
   ]
  },
  {
   "cell_type": "code",
   "execution_count": 12,
   "id": "86eea02b-f9b2-4b02-adc2-4c9743c37ee7",
   "metadata": {},
   "outputs": [
    {
     "data": {
      "text/plain": [
       "tuple"
      ]
     },
     "execution_count": 12,
     "metadata": {},
     "output_type": "execute_result"
    }
   ],
   "source": [
    "type(l)"
   ]
  },
  {
   "cell_type": "code",
   "execution_count": 13,
   "id": "3c3e577d-0f6d-434b-8902-bff6b8378d3e",
   "metadata": {},
   "outputs": [
    {
     "data": {
      "text/plain": [
       "(1, 2, 3, 45, 66, 'abhishek', 'yadav', (45+5j), True, False)"
      ]
     },
     "execution_count": 13,
     "metadata": {},
     "output_type": "execute_result"
    }
   ],
   "source": [
    "t1"
   ]
  },
  {
   "cell_type": "code",
   "execution_count": 14,
   "id": "7cd7a64b-c544-468c-be3f-b7226a7a0e3e",
   "metadata": {},
   "outputs": [
    {
     "data": {
      "text/plain": [
       "1"
      ]
     },
     "execution_count": 14,
     "metadata": {},
     "output_type": "execute_result"
    }
   ],
   "source": [
    "t1[0]"
   ]
  },
  {
   "cell_type": "code",
   "execution_count": 15,
   "id": "4565b2ee-cfe1-40b5-9f04-f51a6ec00929",
   "metadata": {},
   "outputs": [
    {
     "data": {
      "text/plain": [
       "(45+5j)"
      ]
     },
     "execution_count": 15,
     "metadata": {},
     "output_type": "execute_result"
    }
   ],
   "source": [
    "t1[7]"
   ]
  },
  {
   "cell_type": "code",
   "execution_count": 17,
   "id": "2cb7ccdf-1334-4532-b155-c67f4f52863e",
   "metadata": {},
   "outputs": [
    {
     "data": {
      "text/plain": [
       "'abhishek'"
      ]
     },
     "execution_count": 17,
     "metadata": {},
     "output_type": "execute_result"
    }
   ],
   "source": [
    "t1[5]"
   ]
  },
  {
   "cell_type": "code",
   "execution_count": 18,
   "id": "df77bf0c-8ca6-4892-ad7e-ac0e1bac8f99",
   "metadata": {},
   "outputs": [
    {
     "data": {
      "text/plain": [
       "(1, 2, 3, 45, 66, 'abhishek', 'yadav', (45+5j), True, False)"
      ]
     },
     "execution_count": 18,
     "metadata": {},
     "output_type": "execute_result"
    }
   ],
   "source": [
    "t1[::1]"
   ]
  },
  {
   "cell_type": "code",
   "execution_count": 19,
   "id": "ccb83003-be01-40b0-bcd0-7ef004a65f0d",
   "metadata": {},
   "outputs": [
    {
     "data": {
      "text/plain": [
       "(False, True, (45+5j), 'yadav', 'abhishek', 66, 45, 3, 2, 1)"
      ]
     },
     "execution_count": 19,
     "metadata": {},
     "output_type": "execute_result"
    }
   ],
   "source": [
    "t1[::-1]"
   ]
  },
  {
   "cell_type": "code",
   "execution_count": 22,
   "id": "3dda3875-0632-4d16-b1bf-45b67df0a72d",
   "metadata": {},
   "outputs": [
    {
     "data": {
      "text/plain": [
       "(1, 66, True)"
      ]
     },
     "execution_count": 22,
     "metadata": {},
     "output_type": "execute_result"
    }
   ],
   "source": [
    "t1[::4]"
   ]
  },
  {
   "cell_type": "code",
   "execution_count": 23,
   "id": "45317dca-294e-4066-ad8b-9f98becf60da",
   "metadata": {},
   "outputs": [
    {
     "data": {
      "text/plain": [
       "(1, 2, 3, 45, 66, 'abhishek', 'yadav', (45+5j), True, False)"
      ]
     },
     "execution_count": 23,
     "metadata": {},
     "output_type": "execute_result"
    }
   ],
   "source": [
    "t1"
   ]
  },
  {
   "cell_type": "code",
   "execution_count": 24,
   "id": "dd1dc499-ecd5-45dd-9776-914a399f9c53",
   "metadata": {},
   "outputs": [
    {
     "data": {
      "text/plain": [
       "(1, 2, 3)"
      ]
     },
     "execution_count": 24,
     "metadata": {},
     "output_type": "execute_result"
    }
   ],
   "source": [
    "t1[0:3]"
   ]
  },
  {
   "cell_type": "code",
   "execution_count": 25,
   "id": "74b54661-af67-46c8-bcb7-053fce42be77",
   "metadata": {},
   "outputs": [
    {
     "data": {
      "text/plain": [
       "(2, 3)"
      ]
     },
     "execution_count": 25,
     "metadata": {},
     "output_type": "execute_result"
    }
   ],
   "source": [
    "t1[1:3]"
   ]
  },
  {
   "cell_type": "code",
   "execution_count": 27,
   "id": "035b2a86-efaf-48eb-933c-c0c0aa590d99",
   "metadata": {},
   "outputs": [
    {
     "data": {
      "text/plain": [
       "0"
      ]
     },
     "execution_count": 27,
     "metadata": {},
     "output_type": "execute_result"
    }
   ],
   "source": [
    "t1.count(4)"
   ]
  },
  {
   "cell_type": "code",
   "execution_count": 28,
   "id": "1df91599-1327-4711-b0f5-a04185d98dd8",
   "metadata": {},
   "outputs": [
    {
     "data": {
      "text/plain": [
       "2"
      ]
     },
     "execution_count": 28,
     "metadata": {},
     "output_type": "execute_result"
    }
   ],
   "source": [
    "t1.count(1)"
   ]
  },
  {
   "cell_type": "code",
   "execution_count": 29,
   "id": "b534ea5e-8a33-439c-bcfc-021761340a48",
   "metadata": {},
   "outputs": [
    {
     "data": {
      "text/plain": [
       "1"
      ]
     },
     "execution_count": 29,
     "metadata": {},
     "output_type": "execute_result"
    }
   ],
   "source": [
    "t1.count(\"abhishek\")"
   ]
  },
  {
   "cell_type": "code",
   "execution_count": 30,
   "id": "50d68b76-ea0d-4ece-b75b-4b9c99dff48c",
   "metadata": {},
   "outputs": [
    {
     "data": {
      "text/plain": [
       "0"
      ]
     },
     "execution_count": 30,
     "metadata": {},
     "output_type": "execute_result"
    }
   ],
   "source": [
    "t1.index(1)"
   ]
  },
  {
   "cell_type": "code",
   "execution_count": 31,
   "id": "9f5a5392-07a6-481a-9d64-78b0f237d638",
   "metadata": {},
   "outputs": [
    {
     "data": {
      "text/plain": [
       "1"
      ]
     },
     "execution_count": 31,
     "metadata": {},
     "output_type": "execute_result"
    }
   ],
   "source": [
    "t1.index(2)"
   ]
  },
  {
   "cell_type": "code",
   "execution_count": 12,
   "id": "02495e46-1d0e-4829-b50b-8a4cff86c7a6",
   "metadata": {},
   "outputs": [
    {
     "ename": "NameError",
     "evalue": "name 't1' is not defined",
     "output_type": "error",
     "traceback": [
      "\u001b[1;31m---------------------------------------------------------------------------\u001b[0m",
      "\u001b[1;31mNameError\u001b[0m                                 Traceback (most recent call last)",
      "Cell \u001b[1;32mIn[12], line 1\u001b[0m\n\u001b[1;32m----> 1\u001b[0m \u001b[43mt1\u001b[49m\n",
      "\u001b[1;31mNameError\u001b[0m: name 't1' is not defined"
     ]
    }
   ],
   "source": [
    "t1"
   ]
  },
  {
   "cell_type": "code",
   "execution_count": 35,
   "id": "aee88348-b4d7-40fe-97d7-767a192a9d4e",
   "metadata": {},
   "outputs": [
    {
     "data": {
      "text/plain": [
       "1"
      ]
     },
     "execution_count": 35,
     "metadata": {},
     "output_type": "execute_result"
    }
   ],
   "source": [
    "t1[0]"
   ]
  },
  {
   "cell_type": "code",
   "execution_count": 33,
   "id": "7fa0f952-7d57-47e0-95b3-d9dcc7c9c1b9",
   "metadata": {},
   "outputs": [
    {
     "data": {
      "text/plain": [
       "2"
      ]
     },
     "execution_count": 33,
     "metadata": {},
     "output_type": "execute_result"
    }
   ],
   "source": [
    "t1.count(True)"
   ]
  },
  {
   "cell_type": "code",
   "execution_count": 34,
   "id": "915eaaaa-f7cc-48fe-b236-bf4c230862ac",
   "metadata": {},
   "outputs": [
    {
     "data": {
      "text/plain": [
       "(1, 2, 34, 5)"
      ]
     },
     "execution_count": 34,
     "metadata": {},
     "output_type": "execute_result"
    }
   ],
   "source": [
    "l"
   ]
  },
  {
   "cell_type": "code",
   "execution_count": 36,
   "id": "f81b9d17-e775-4e8f-b8b7-1a5837561764",
   "metadata": {},
   "outputs": [
    {
     "data": {
      "text/plain": [
       "(1, 2, 34, 5)"
      ]
     },
     "execution_count": 36,
     "metadata": {},
     "output_type": "execute_result"
    }
   ],
   "source": [
    "l"
   ]
  },
  {
   "cell_type": "code",
   "execution_count": 40,
   "id": "5135a8d0-af2a-4449-bb83-55c96a664e34",
   "metadata": {},
   "outputs": [
    {
     "data": {
      "text/plain": [
       "1"
      ]
     },
     "execution_count": 40,
     "metadata": {},
     "output_type": "execute_result"
    }
   ],
   "source": [
    "l[0]"
   ]
  },
  {
   "cell_type": "code",
   "execution_count": 7,
   "id": "7ce0a143-ca97-432f-aeb2-ebacf17785f9",
   "metadata": {},
   "outputs": [],
   "source": [
    "l = [1,2,3,4,5]"
   ]
  },
  {
   "cell_type": "code",
   "execution_count": 9,
   "id": "b3c6b175-5519-45d2-8821-e3d9ab6d42d6",
   "metadata": {},
   "outputs": [
    {
     "data": {
      "text/plain": [
       "[1, 2, 3, 4, 5]"
      ]
     },
     "execution_count": 9,
     "metadata": {},
     "output_type": "execute_result"
    }
   ],
   "source": [
    "l"
   ]
  },
  {
   "cell_type": "code",
   "execution_count": 14,
   "id": "d9ea6b7c-f4cf-4e81-989b-19bcbfbb1bc2",
   "metadata": {},
   "outputs": [],
   "source": [
    "t1 = (1,2,3,45,66,\"abhishek\",\"yadav\",45+5j, True, False)"
   ]
  },
  {
   "cell_type": "code",
   "execution_count": 15,
   "id": "229fe546-103b-48a5-97cd-a293ec521a08",
   "metadata": {},
   "outputs": [
    {
     "data": {
      "text/plain": [
       "(1, 2, 3, 45, 66, 'abhishek', 'yadav', (45+5j), True, False)"
      ]
     },
     "execution_count": 15,
     "metadata": {},
     "output_type": "execute_result"
    }
   ],
   "source": [
    "t1"
   ]
  },
  {
   "cell_type": "code",
   "execution_count": 16,
   "id": "f4914b7f-9a3c-44db-ae1d-7e92245e872b",
   "metadata": {},
   "outputs": [
    {
     "data": {
      "text/plain": [
       "[1, 2, 3, 4, 5]"
      ]
     },
     "execution_count": 16,
     "metadata": {},
     "output_type": "execute_result"
    }
   ],
   "source": [
    "l"
   ]
  },
  {
   "cell_type": "code",
   "execution_count": 17,
   "id": "c3164d97-cf40-4d58-b8aa-532e23259934",
   "metadata": {},
   "outputs": [],
   "source": [
    "l[0] = 100"
   ]
  },
  {
   "cell_type": "code",
   "execution_count": 18,
   "id": "1afd5300-dbfa-4863-b1fc-d75881770dd1",
   "metadata": {},
   "outputs": [
    {
     "data": {
      "text/plain": [
       "[100, 2, 3, 4, 5]"
      ]
     },
     "execution_count": 18,
     "metadata": {},
     "output_type": "execute_result"
    }
   ],
   "source": [
    "l"
   ]
  },
  {
   "cell_type": "code",
   "execution_count": 19,
   "id": "ef4d6b57-4af1-465d-bb36-896505548d0c",
   "metadata": {},
   "outputs": [],
   "source": [
    "l[1] = 150"
   ]
  },
  {
   "cell_type": "code",
   "execution_count": 20,
   "id": "6eff9a72-fa06-450f-877a-e352e6861201",
   "metadata": {},
   "outputs": [
    {
     "data": {
      "text/plain": [
       "[100, 150, 3, 4, 5]"
      ]
     },
     "execution_count": 20,
     "metadata": {},
     "output_type": "execute_result"
    }
   ],
   "source": [
    "l"
   ]
  },
  {
   "cell_type": "code",
   "execution_count": 21,
   "id": "473b3ee2-c4b3-46d7-bb17-fd0873dad3b0",
   "metadata": {},
   "outputs": [
    {
     "data": {
      "text/plain": [
       "(1, 2, 3, 45, 66, 'abhishek', 'yadav', (45+5j), True, False)"
      ]
     },
     "execution_count": 21,
     "metadata": {},
     "output_type": "execute_result"
    }
   ],
   "source": [
    "t1"
   ]
  },
  {
   "cell_type": "code",
   "execution_count": 22,
   "id": "29952b3e-545f-4524-b7be-ce92b9d2ac13",
   "metadata": {},
   "outputs": [
    {
     "name": "stdout",
     "output_type": "stream",
     "text": [
      "1 <class 'int'>\n",
      "2 <class 'int'>\n",
      "3 <class 'int'>\n",
      "45 <class 'int'>\n",
      "66 <class 'int'>\n",
      "abhishek <class 'str'>\n",
      "yadav <class 'str'>\n",
      "(45+5j) <class 'complex'>\n",
      "True <class 'bool'>\n",
      "False <class 'bool'>\n"
     ]
    }
   ],
   "source": [
    "for i in t1:\n",
    "    print(i,type(i))"
   ]
  },
  {
   "cell_type": "code",
   "execution_count": 23,
   "id": "2715e400-31d0-4644-afca-04b9e3d66792",
   "metadata": {},
   "outputs": [],
   "source": [
    "t2 = (1,2,3,4,5)"
   ]
  },
  {
   "cell_type": "code",
   "execution_count": 24,
   "id": "2665c4d3-397b-4bbf-9342-d3201b6e9bbf",
   "metadata": {},
   "outputs": [
    {
     "data": {
      "text/plain": [
       "(1, 2, 3, 4, 5)"
      ]
     },
     "execution_count": 24,
     "metadata": {},
     "output_type": "execute_result"
    }
   ],
   "source": [
    "t2"
   ]
  },
  {
   "cell_type": "code",
   "execution_count": 25,
   "id": "e16ee743-fcbd-4c17-8c02-e747cc9b9713",
   "metadata": {},
   "outputs": [
    {
     "data": {
      "text/plain": [
       "(1, 2, 3, 4, 5, 1, 2, 3, 4, 5)"
      ]
     },
     "execution_count": 25,
     "metadata": {},
     "output_type": "execute_result"
    }
   ],
   "source": [
    "t2*2"
   ]
  },
  {
   "cell_type": "code",
   "execution_count": 26,
   "id": "3bfdf952-fec0-4528-ab87-729174fd4f61",
   "metadata": {},
   "outputs": [
    {
     "data": {
      "text/plain": [
       "(1, 2, 3, 4, 5, 1, 2, 3, 4, 5, 1, 2, 3, 4, 5)"
      ]
     },
     "execution_count": 26,
     "metadata": {},
     "output_type": "execute_result"
    }
   ],
   "source": [
    "t2*3"
   ]
  },
  {
   "cell_type": "code",
   "execution_count": 27,
   "id": "da900b74-2b4e-47ec-9f14-2c7d27bb0261",
   "metadata": {},
   "outputs": [
    {
     "data": {
      "text/plain": [
       "5"
      ]
     },
     "execution_count": 27,
     "metadata": {},
     "output_type": "execute_result"
    }
   ],
   "source": [
    "max(t2)"
   ]
  },
  {
   "cell_type": "code",
   "execution_count": 29,
   "id": "a868be32-2e97-4713-a292-786453455b69",
   "metadata": {},
   "outputs": [
    {
     "data": {
      "text/plain": [
       "1"
      ]
     },
     "execution_count": 29,
     "metadata": {},
     "output_type": "execute_result"
    }
   ],
   "source": [
    "min(t2)"
   ]
  },
  {
   "cell_type": "code",
   "execution_count": 31,
   "id": "2311eac1-53a4-40c9-8e55-bba14c584588",
   "metadata": {},
   "outputs": [],
   "source": [
    "t1 = (1,2,3,4,5)\n",
    "t2 = (5,6,7,8,9)"
   ]
  },
  {
   "cell_type": "code",
   "execution_count": 32,
   "id": "205ca63f-893b-4fda-9795-575a21130b0e",
   "metadata": {},
   "outputs": [],
   "source": [
    "t3 = (t1,t2)"
   ]
  },
  {
   "cell_type": "code",
   "execution_count": 33,
   "id": "216a0ad9-be59-44e3-8652-d6012766015b",
   "metadata": {},
   "outputs": [
    {
     "data": {
      "text/plain": [
       "((1, 2, 3, 4, 5), (5, 6, 7, 8, 9))"
      ]
     },
     "execution_count": 33,
     "metadata": {},
     "output_type": "execute_result"
    }
   ],
   "source": [
    "t3"
   ]
  },
  {
   "cell_type": "code",
   "execution_count": 34,
   "id": "5245f131-ac23-43eb-a7ed-a02c64df69bf",
   "metadata": {},
   "outputs": [],
   "source": [
    "t4 = ((1,2,3,4,5), [1,3,4,5,7,9,11,13])"
   ]
  },
  {
   "cell_type": "code",
   "execution_count": 35,
   "id": "290fba1b-dabf-45c0-82ab-1066bf4c88e5",
   "metadata": {},
   "outputs": [
    {
     "data": {
      "text/plain": [
       "((1, 2, 3, 4, 5), [1, 3, 4, 5, 7, 9, 11, 13])"
      ]
     },
     "execution_count": 35,
     "metadata": {},
     "output_type": "execute_result"
    }
   ],
   "source": [
    "t4"
   ]
  },
  {
   "cell_type": "code",
   "execution_count": 36,
   "id": "7f377f6f-b3a3-42c1-84f1-ac01d8167394",
   "metadata": {},
   "outputs": [],
   "source": [
    "del t4"
   ]
  },
  {
   "cell_type": "code",
   "execution_count": 37,
   "id": "df180f11-44a6-4bab-8de7-bdf4a317888f",
   "metadata": {},
   "outputs": [
    {
     "ename": "NameError",
     "evalue": "name 't4' is not defined",
     "output_type": "error",
     "traceback": [
      "\u001b[1;31m---------------------------------------------------------------------------\u001b[0m",
      "\u001b[1;31mNameError\u001b[0m                                 Traceback (most recent call last)",
      "Cell \u001b[1;32mIn[37], line 1\u001b[0m\n\u001b[1;32m----> 1\u001b[0m \u001b[43mt4\u001b[49m\n",
      "\u001b[1;31mNameError\u001b[0m: name 't4' is not defined"
     ]
    }
   ],
   "source": [
    "t4"
   ]
  },
  {
   "cell_type": "code",
   "execution_count": 38,
   "id": "7345cba1-b830-4359-befe-4ca9cae8175b",
   "metadata": {},
   "outputs": [
    {
     "data": {
      "text/plain": [
       "(1, 2, 3, 4, 5)"
      ]
     },
     "execution_count": 38,
     "metadata": {},
     "output_type": "execute_result"
    }
   ],
   "source": [
    "t1"
   ]
  },
  {
   "cell_type": "code",
   "execution_count": 40,
   "id": "518589b9-7c40-4b34-93cc-e66d391193c9",
   "metadata": {},
   "outputs": [
    {
     "data": {
      "text/plain": [
       "5"
      ]
     },
     "execution_count": 40,
     "metadata": {},
     "output_type": "execute_result"
    }
   ],
   "source": [
    "len(t1)"
   ]
  },
  {
   "cell_type": "code",
   "execution_count": 41,
   "id": "5748c1ea-c820-498b-91f0-c6a09cf54775",
   "metadata": {},
   "outputs": [
    {
     "data": {
      "text/plain": [
       "False"
      ]
     },
     "execution_count": 41,
     "metadata": {},
     "output_type": "execute_result"
    }
   ],
   "source": [
    "\"abhishek\" in t1"
   ]
  },
  {
   "cell_type": "code",
   "execution_count": 42,
   "id": "223b7878-3d7b-47aa-8b04-7a528c0fb6f9",
   "metadata": {},
   "outputs": [
    {
     "data": {
      "text/plain": [
       "True"
      ]
     },
     "execution_count": 42,
     "metadata": {},
     "output_type": "execute_result"
    }
   ],
   "source": [
    "1 in t1"
   ]
  },
  {
   "cell_type": "code",
   "execution_count": 43,
   "id": "252addab-8bc0-4f3d-a9c2-c98dc4075e48",
   "metadata": {},
   "outputs": [
    {
     "data": {
      "text/plain": [
       "True"
      ]
     },
     "execution_count": 43,
     "metadata": {},
     "output_type": "execute_result"
    }
   ],
   "source": [
    "2 in t1"
   ]
  },
  {
   "cell_type": "code",
   "execution_count": 44,
   "id": "16d9da96-f73c-4a1a-879b-48ec27c09fe7",
   "metadata": {},
   "outputs": [
    {
     "data": {
      "text/plain": [
       "False"
      ]
     },
     "execution_count": 44,
     "metadata": {},
     "output_type": "execute_result"
    }
   ],
   "source": [
    "2 in t2"
   ]
  },
  {
   "cell_type": "code",
   "execution_count": null,
   "id": "74755ab0-d3cd-4493-b6bf-c16619f771fb",
   "metadata": {},
   "outputs": [],
   "source": []
  },
  {
   "cell_type": "code",
   "execution_count": null,
   "id": "ccd0df16-4d2b-4228-8b56-3324c991b81f",
   "metadata": {},
   "outputs": [],
   "source": []
  },
  {
   "cell_type": "markdown",
   "id": "eeb31bd1-d488-41fd-b182-e26986a1225c",
   "metadata": {},
   "source": [
    "## Set ()"
   ]
  },
  {
   "cell_type": "code",
   "execution_count": 45,
   "id": "cd410ad3-d78a-4792-8df1-2d647b956b08",
   "metadata": {},
   "outputs": [],
   "source": [
    "s = {}"
   ]
  },
  {
   "cell_type": "code",
   "execution_count": 46,
   "id": "b7abbdc0-1de7-437c-8a5b-1abe7777c38c",
   "metadata": {},
   "outputs": [
    {
     "data": {
      "text/plain": [
       "dict"
      ]
     },
     "execution_count": 46,
     "metadata": {},
     "output_type": "execute_result"
    }
   ],
   "source": [
    "type(s)"
   ]
  },
  {
   "cell_type": "code",
   "execution_count": 47,
   "id": "a3a853ab-7ba2-4817-8762-204aeb1e3d8f",
   "metadata": {},
   "outputs": [],
   "source": [
    "s1 = {1,2,3,4,5}"
   ]
  },
  {
   "cell_type": "code",
   "execution_count": 48,
   "id": "9f02c1d3-999e-40b6-ab51-88ec298c0922",
   "metadata": {},
   "outputs": [
    {
     "data": {
      "text/plain": [
       "{1, 2, 3, 4, 5}"
      ]
     },
     "execution_count": 48,
     "metadata": {},
     "output_type": "execute_result"
    }
   ],
   "source": [
    "s1"
   ]
  },
  {
   "cell_type": "code",
   "execution_count": 49,
   "id": "e794b6ab-ef2b-4b36-8ea7-4a8a6febb45f",
   "metadata": {},
   "outputs": [
    {
     "data": {
      "text/plain": [
       "set"
      ]
     },
     "execution_count": 49,
     "metadata": {},
     "output_type": "execute_result"
    }
   ],
   "source": [
    "type(s1)"
   ]
  },
  {
   "cell_type": "code",
   "execution_count": 50,
   "id": "919bff67-1229-4943-b43a-387703905b47",
   "metadata": {},
   "outputs": [],
   "source": [
    "s2 = {1,1,2,3,4,4,2,4,5,5,6,7,7,88,8,9,9,0,9,7,6,5,4,3,}"
   ]
  },
  {
   "cell_type": "code",
   "execution_count": 51,
   "id": "1af44259-2cb0-413b-a460-c47cddf4718f",
   "metadata": {},
   "outputs": [
    {
     "data": {
      "text/plain": [
       "{0, 1, 2, 3, 4, 5, 6, 7, 8, 9, 88}"
      ]
     },
     "execution_count": 51,
     "metadata": {},
     "output_type": "execute_result"
    }
   ],
   "source": [
    "s2"
   ]
  },
  {
   "cell_type": "code",
   "execution_count": 52,
   "id": "764a3e8d-adf8-411d-83bb-0e7efabb5e4d",
   "metadata": {},
   "outputs": [
    {
     "data": {
      "text/plain": [
       "[0, 1, 2, 3, 4, 5, 6, 7, 8, 9, 88]"
      ]
     },
     "execution_count": 52,
     "metadata": {},
     "output_type": "execute_result"
    }
   ],
   "source": [
    "list(s2)"
   ]
  },
  {
   "cell_type": "code",
   "execution_count": 53,
   "id": "e589db56-d5e0-4e3e-b481-abfacac9678c",
   "metadata": {},
   "outputs": [
    {
     "data": {
      "text/plain": [
       "(0, 1, 2, 3, 4, 5, 6, 7, 8, 9, 88)"
      ]
     },
     "execution_count": 53,
     "metadata": {},
     "output_type": "execute_result"
    }
   ],
   "source": [
    "tuple(s2)"
   ]
  },
  {
   "cell_type": "code",
   "execution_count": 55,
   "id": "3d352d39-b9a4-4636-ad31-fad2fe83520d",
   "metadata": {},
   "outputs": [],
   "source": [
    "l = list(s2)"
   ]
  },
  {
   "cell_type": "code",
   "execution_count": 56,
   "id": "c22bc488-0482-457c-9c5e-070b0e3bc9d3",
   "metadata": {},
   "outputs": [
    {
     "data": {
      "text/plain": [
       "[0, 1, 2, 3, 4, 5, 6, 7, 8, 9, 88]"
      ]
     },
     "execution_count": 56,
     "metadata": {},
     "output_type": "execute_result"
    }
   ],
   "source": [
    "l"
   ]
  },
  {
   "cell_type": "code",
   "execution_count": 57,
   "id": "caf9bf48-933a-4b63-b6ff-58324c1b1b83",
   "metadata": {},
   "outputs": [
    {
     "data": {
      "text/plain": [
       "{0, 1, 2, 3, 4, 5, 6, 7, 8, 9, 88}"
      ]
     },
     "execution_count": 57,
     "metadata": {},
     "output_type": "execute_result"
    }
   ],
   "source": [
    "set(l)"
   ]
  },
  {
   "cell_type": "code",
   "execution_count": 59,
   "id": "15fdd1a1-d1e8-44aa-b5c1-755786c62600",
   "metadata": {},
   "outputs": [
    {
     "ename": "TypeError",
     "evalue": "unhashable type: 'list'",
     "output_type": "error",
     "traceback": [
      "\u001b[1;31m---------------------------------------------------------------------------\u001b[0m",
      "\u001b[1;31mTypeError\u001b[0m                                 Traceback (most recent call last)",
      "Cell \u001b[1;32mIn[59], line 1\u001b[0m\n\u001b[1;32m----> 1\u001b[0m s4 \u001b[38;5;241m=\u001b[39m {\u001b[38;5;241m1\u001b[39m,\u001b[38;5;241m2\u001b[39m,\u001b[38;5;241m3\u001b[39m,\u001b[38;5;241m4\u001b[39m,[\u001b[38;5;241m1\u001b[39m,\u001b[38;5;241m2\u001b[39m,\u001b[38;5;241m3\u001b[39m,\u001b[38;5;241m4\u001b[39m]}\n",
      "\u001b[1;31mTypeError\u001b[0m: unhashable type: 'list'"
     ]
    }
   ],
   "source": [
    "s4 = {1,2,3,4,[1,2,3,4]}"
   ]
  },
  {
   "cell_type": "code",
   "execution_count": 61,
   "id": "60edb156-38ac-4e2c-b428-5530f11daea3",
   "metadata": {},
   "outputs": [],
   "source": [
    "s5 = {1,2,3,4,(1,2,3,4)}"
   ]
  },
  {
   "cell_type": "code",
   "execution_count": 62,
   "id": "5eddc970-80c1-40d1-b2ae-83b15b188c59",
   "metadata": {},
   "outputs": [
    {
     "data": {
      "text/plain": [
       "{(1, 2, 3, 4), 1, 2, 3, 4}"
      ]
     },
     "execution_count": 62,
     "metadata": {},
     "output_type": "execute_result"
    }
   ],
   "source": [
    "s5"
   ]
  },
  {
   "cell_type": "code",
   "execution_count": 65,
   "id": "f6c3b9e5-7943-49c0-89fa-b0bee08d59ee",
   "metadata": {},
   "outputs": [],
   "source": [
    "s6 = {\"abhi\",\"yadav\",\"Abhi\",12,3,4,5,6,1,3}"
   ]
  },
  {
   "cell_type": "code",
   "execution_count": 66,
   "id": "9b215388-5748-492e-b620-e701e812a6fd",
   "metadata": {},
   "outputs": [
    {
     "data": {
      "text/plain": [
       "{1, 12, 3, 4, 5, 6, 'Abhi', 'abhi', 'yadav'}"
      ]
     },
     "execution_count": 66,
     "metadata": {},
     "output_type": "execute_result"
    }
   ],
   "source": [
    "s6"
   ]
  },
  {
   "cell_type": "code",
   "execution_count": 69,
   "id": "1241f8f3-8bef-498f-be78-c36050ccb9b7",
   "metadata": {},
   "outputs": [],
   "source": [
    "s7 = {\"abhi\",\"abhi\",1,2,3,4,5,6}"
   ]
  },
  {
   "cell_type": "code",
   "execution_count": 70,
   "id": "fb2e1e0f-65cd-4319-a77c-822523406e45",
   "metadata": {},
   "outputs": [
    {
     "data": {
      "text/plain": [
       "{1, 2, 3, 4, 5, 6, 'abhi'}"
      ]
     },
     "execution_count": 70,
     "metadata": {},
     "output_type": "execute_result"
    }
   ],
   "source": [
    "s7"
   ]
  },
  {
   "cell_type": "code",
   "execution_count": 72,
   "id": "42fd97b8-9618-44ee-9ef6-8f7d5a50be08",
   "metadata": {},
   "outputs": [
    {
     "name": "stdout",
     "output_type": "stream",
     "text": [
      "1\n",
      "2\n",
      "3\n",
      "4\n",
      "5\n",
      "6\n",
      "abhi\n"
     ]
    }
   ],
   "source": [
    "for i in s7:\n",
    "    print(i)"
   ]
  },
  {
   "cell_type": "code",
   "execution_count": 74,
   "id": "f1893fb9-dac0-4a73-83c2-c005415b5a46",
   "metadata": {},
   "outputs": [
    {
     "data": {
      "text/plain": [
       "{1, 2, 3, 4, 5, 6, 'abhi'}"
      ]
     },
     "execution_count": 74,
     "metadata": {},
     "output_type": "execute_result"
    }
   ],
   "source": [
    "s7"
   ]
  },
  {
   "cell_type": "code",
   "execution_count": 75,
   "id": "a8dbdb63-f3f8-434d-8c95-604ad748a39c",
   "metadata": {},
   "outputs": [],
   "source": [
    "s7.add(34)"
   ]
  },
  {
   "cell_type": "code",
   "execution_count": 76,
   "id": "827a42a6-2026-43b4-ad28-e6a567b661aa",
   "metadata": {},
   "outputs": [
    {
     "data": {
      "text/plain": [
       "{1, 2, 3, 34, 4, 5, 6, 'abhi'}"
      ]
     },
     "execution_count": 76,
     "metadata": {},
     "output_type": "execute_result"
    }
   ],
   "source": [
    "s7"
   ]
  },
  {
   "cell_type": "code",
   "execution_count": 78,
   "id": "b4277178-5208-4f27-90bb-b9d73b4e1e56",
   "metadata": {},
   "outputs": [],
   "source": [
    "s7.add(50)"
   ]
  },
  {
   "cell_type": "code",
   "execution_count": 79,
   "id": "6ada417e-6643-48a6-ba38-4297795837ae",
   "metadata": {},
   "outputs": [
    {
     "data": {
      "text/plain": [
       "{1, 2, 3, 34, 4, 5, 50, 6, 'abhi'}"
      ]
     },
     "execution_count": 79,
     "metadata": {},
     "output_type": "execute_result"
    }
   ],
   "source": [
    "s7"
   ]
  },
  {
   "cell_type": "code",
   "execution_count": 80,
   "id": "cb9c93df-128c-4296-82bd-eb92cf6759e3",
   "metadata": {},
   "outputs": [
    {
     "data": {
      "text/plain": [
       "1"
      ]
     },
     "execution_count": 80,
     "metadata": {},
     "output_type": "execute_result"
    }
   ],
   "source": [
    "s7.pop()"
   ]
  },
  {
   "cell_type": "code",
   "execution_count": 81,
   "id": "fcf1dcea-5923-4400-81cb-54d13dc99dd8",
   "metadata": {},
   "outputs": [
    {
     "data": {
      "text/plain": [
       "2"
      ]
     },
     "execution_count": 81,
     "metadata": {},
     "output_type": "execute_result"
    }
   ],
   "source": [
    "s7.pop()"
   ]
  },
  {
   "cell_type": "code",
   "execution_count": 82,
   "id": "b45bae3e-c491-410e-ab4e-9cdaf7a2cd1b",
   "metadata": {},
   "outputs": [
    {
     "data": {
      "text/plain": [
       "3"
      ]
     },
     "execution_count": 82,
     "metadata": {},
     "output_type": "execute_result"
    }
   ],
   "source": [
    "s7.pop()"
   ]
  },
  {
   "cell_type": "code",
   "execution_count": 83,
   "id": "a7c0ed79-34db-45f9-9619-7c039bd607a4",
   "metadata": {},
   "outputs": [
    {
     "data": {
      "text/plain": [
       "4"
      ]
     },
     "execution_count": 83,
     "metadata": {},
     "output_type": "execute_result"
    }
   ],
   "source": [
    "s7.pop()"
   ]
  },
  {
   "cell_type": "code",
   "execution_count": 84,
   "id": "c150480b-96d9-457d-828c-3a3b946ec36f",
   "metadata": {},
   "outputs": [
    {
     "data": {
      "text/plain": [
       "{34, 5, 50, 6, 'abhi'}"
      ]
     },
     "execution_count": 84,
     "metadata": {},
     "output_type": "execute_result"
    }
   ],
   "source": [
    "s7"
   ]
  },
  {
   "cell_type": "code",
   "execution_count": 85,
   "id": "c0a22e96-28f7-403d-bbc4-3cec05baa144",
   "metadata": {},
   "outputs": [
    {
     "data": {
      "text/plain": [
       "<function set.clear>"
      ]
     },
     "execution_count": 85,
     "metadata": {},
     "output_type": "execute_result"
    }
   ],
   "source": [
    "s7.clear"
   ]
  },
  {
   "cell_type": "code",
   "execution_count": 86,
   "id": "836fc22c-0cdb-4ea4-b0ec-47b213c97019",
   "metadata": {},
   "outputs": [],
   "source": [
    "s7.clear()"
   ]
  },
  {
   "cell_type": "code",
   "execution_count": 87,
   "id": "1009bbeb-e26d-4dc7-a558-67a0992926bd",
   "metadata": {},
   "outputs": [
    {
     "data": {
      "text/plain": [
       "set()"
      ]
     },
     "execution_count": 87,
     "metadata": {},
     "output_type": "execute_result"
    }
   ],
   "source": [
    "s7"
   ]
  },
  {
   "cell_type": "code",
   "execution_count": 90,
   "id": "81b99881-300d-4c3d-9fcb-6899a84ac0ab",
   "metadata": {},
   "outputs": [],
   "source": [
    "s8 = {1,2,3,4}\n",
    "s9 = {1,3,6,5}\n"
   ]
  },
  {
   "cell_type": "code",
   "execution_count": 91,
   "id": "b29da202-67ba-4682-983a-52ac11ec70ca",
   "metadata": {},
   "outputs": [
    {
     "data": {
      "text/plain": [
       "{2, 4}"
      ]
     },
     "execution_count": 91,
     "metadata": {},
     "output_type": "execute_result"
    }
   ],
   "source": [
    "s8.difference(s9)"
   ]
  },
  {
   "cell_type": "code",
   "execution_count": 92,
   "id": "883e0218-a937-4eab-8c02-7039a907818c",
   "metadata": {},
   "outputs": [
    {
     "data": {
      "text/plain": [
       "{5, 6}"
      ]
     },
     "execution_count": 92,
     "metadata": {},
     "output_type": "execute_result"
    }
   ],
   "source": [
    "s9.difference(s8)"
   ]
  },
  {
   "cell_type": "code",
   "execution_count": 93,
   "id": "eb8ce291-e0af-4a52-b1cc-fb8f5e5edefb",
   "metadata": {},
   "outputs": [],
   "source": [
    "s10 = {1,2,3,4,56,7,5,67,8,9,94,3,21,12,1,34,4,5}\n",
    "s11= {2,3,4,6,7,8,9,0,55,66,77,88,3,9,87,6,54,3,5}"
   ]
  },
  {
   "cell_type": "code",
   "execution_count": 94,
   "id": "0d2d4466-a060-417c-8b6c-29f245ba218e",
   "metadata": {},
   "outputs": [
    {
     "data": {
      "text/plain": [
       "{1, 12, 21, 34, 56, 67, 94}"
      ]
     },
     "execution_count": 94,
     "metadata": {},
     "output_type": "execute_result"
    }
   ],
   "source": [
    "s10.difference(s11)"
   ]
  },
  {
   "cell_type": "code",
   "execution_count": 95,
   "id": "2d3947f0-244f-46b9-b683-708b25a319b7",
   "metadata": {},
   "outputs": [
    {
     "data": {
      "text/plain": [
       "{0, 6, 54, 55, 66, 77, 87, 88}"
      ]
     },
     "execution_count": 95,
     "metadata": {},
     "output_type": "execute_result"
    }
   ],
   "source": [
    "s11.difference(s10)"
   ]
  },
  {
   "cell_type": "code",
   "execution_count": null,
   "id": "951cca52-3e44-4d85-972c-ce14a1cae917",
   "metadata": {},
   "outputs": [],
   "source": []
  },
  {
   "cell_type": "code",
   "execution_count": null,
   "id": "e01a5089-4df7-4946-b438-e250937a14cc",
   "metadata": {},
   "outputs": [],
   "source": []
  },
  {
   "cell_type": "markdown",
   "id": "a00e1102-83d0-4ff3-97a4-b6214f84b511",
   "metadata": {},
   "source": [
    "## Dictionary()"
   ]
  },
  {
   "cell_type": "code",
   "execution_count": 96,
   "id": "723ff371-6b28-4b97-9bee-2e0d61fb4d9b",
   "metadata": {},
   "outputs": [],
   "source": [
    "d = {}"
   ]
  },
  {
   "cell_type": "code",
   "execution_count": 97,
   "id": "564b02fb-e271-403e-adea-f4bbc4a38582",
   "metadata": {},
   "outputs": [
    {
     "data": {
      "text/plain": [
       "dict"
      ]
     },
     "execution_count": 97,
     "metadata": {},
     "output_type": "execute_result"
    }
   ],
   "source": [
    "type(d)"
   ]
  },
  {
   "cell_type": "code",
   "execution_count": 98,
   "id": "7f0d6281-62ad-486a-aaae-566e907f6a85",
   "metadata": {},
   "outputs": [],
   "source": [
    "d1 = {\"name\": \"abhi\", \"email_id\": \"abhiydv23096@gmail.com\", \"mobile_number\": 12345678990}"
   ]
  },
  {
   "cell_type": "code",
   "execution_count": 99,
   "id": "761fa8e2-3eac-4cff-a282-615e536f77b2",
   "metadata": {},
   "outputs": [
    {
     "data": {
      "text/plain": [
       "{'name': 'abhi',\n",
       " 'email_id': 'abhiydv23096@gmail.com',\n",
       " 'mobile_number': 12345678990}"
      ]
     },
     "execution_count": 99,
     "metadata": {},
     "output_type": "execute_result"
    }
   ],
   "source": [
    "d1"
   ]
  },
  {
   "cell_type": "code",
   "execution_count": 100,
   "id": "539b1f21-3eaa-4f7f-a017-f0851b6a121e",
   "metadata": {},
   "outputs": [
    {
     "data": {
      "text/plain": [
       "dict"
      ]
     },
     "execution_count": 100,
     "metadata": {},
     "output_type": "execute_result"
    }
   ],
   "source": [
    "type(d1)"
   ]
  },
  {
   "cell_type": "code",
   "execution_count": 101,
   "id": "7fb69065-cefc-4237-bfe8-5e49eaad89a2",
   "metadata": {},
   "outputs": [
    {
     "data": {
      "text/plain": [
       "{'name': 'abhi',\n",
       " 'email_id': 'abhiydv23096@gmail.com',\n",
       " 'mobile_number': 12345678990}"
      ]
     },
     "execution_count": 101,
     "metadata": {},
     "output_type": "execute_result"
    }
   ],
   "source": [
    "d1"
   ]
  },
  {
   "cell_type": "code",
   "execution_count": 102,
   "id": "79755fe9-29d0-4c05-ad9e-8265f114e077",
   "metadata": {},
   "outputs": [],
   "source": [
    "d2 = {\"name\": \"abhi\", \"name\": \"abhishek yadav\"}"
   ]
  },
  {
   "cell_type": "code",
   "execution_count": 103,
   "id": "06e855fe-b8a4-4921-ba74-93e3be15b8e1",
   "metadata": {},
   "outputs": [
    {
     "data": {
      "text/plain": [
       "dict"
      ]
     },
     "execution_count": 103,
     "metadata": {},
     "output_type": "execute_result"
    }
   ],
   "source": [
    "type(d2)"
   ]
  },
  {
   "cell_type": "code",
   "execution_count": 104,
   "id": "b7969f0e-97e4-4002-b89e-f525fe42c793",
   "metadata": {},
   "outputs": [
    {
     "data": {
      "text/plain": [
       "{'name': 'abhishek yadav'}"
      ]
     },
     "execution_count": 104,
     "metadata": {},
     "output_type": "execute_result"
    }
   ],
   "source": [
    "d2"
   ]
  },
  {
   "cell_type": "code",
   "execution_count": 105,
   "id": "ad2ae17a-c22c-48f4-a12d-f17fd11b9b5a",
   "metadata": {},
   "outputs": [],
   "source": [
    "d3 = {123345556:\"abhi\"}"
   ]
  },
  {
   "cell_type": "code",
   "execution_count": 106,
   "id": "24252bee-59e8-4bed-bea0-fc315ffce250",
   "metadata": {},
   "outputs": [
    {
     "data": {
      "text/plain": [
       "{123345556: 'abhi'}"
      ]
     },
     "execution_count": 106,
     "metadata": {},
     "output_type": "execute_result"
    }
   ],
   "source": [
    "d3"
   ]
  },
  {
   "cell_type": "code",
   "execution_count": 107,
   "id": "288744fb-508c-47a3-ba7b-78dc0403b49c",
   "metadata": {},
   "outputs": [],
   "source": [
    "d4 = {234.55: \"abc\"}"
   ]
  },
  {
   "cell_type": "code",
   "execution_count": 108,
   "id": "88761918-dd3f-4106-aee4-80ceaa971f65",
   "metadata": {},
   "outputs": [
    {
     "data": {
      "text/plain": [
       "{234.55: 'abc'}"
      ]
     },
     "execution_count": 108,
     "metadata": {},
     "output_type": "execute_result"
    }
   ],
   "source": [
    "d4"
   ]
  },
  {
   "cell_type": "code",
   "execution_count": 109,
   "id": "81669acf-8e9a-4b4f-85ed-1ca77a56a2c8",
   "metadata": {},
   "outputs": [],
   "source": [
    "d5 = {True: \"abc\"}"
   ]
  },
  {
   "cell_type": "code",
   "execution_count": 110,
   "id": "444e0bf4-914c-4f50-94a5-5f7521f3c505",
   "metadata": {},
   "outputs": [
    {
     "data": {
      "text/plain": [
       "{True: 'abc'}"
      ]
     },
     "execution_count": 110,
     "metadata": {},
     "output_type": "execute_result"
    }
   ],
   "source": [
    "d5"
   ]
  },
  {
   "cell_type": "code",
   "execution_count": 111,
   "id": "cb64c60d-eef9-498c-8e34-963762ba7a08",
   "metadata": {},
   "outputs": [
    {
     "ename": "SyntaxError",
     "evalue": "incomplete input (3218231181.py, line 1)",
     "output_type": "error",
     "traceback": [
      "\u001b[1;36m  Cell \u001b[1;32mIn[111], line 1\u001b[1;36m\u001b[0m\n\u001b[1;33m    d6 = {#:\"abc\"}\u001b[0m\n\u001b[1;37m                  ^\u001b[0m\n\u001b[1;31mSyntaxError\u001b[0m\u001b[1;31m:\u001b[0m incomplete input\n"
     ]
    }
   ],
   "source": [
    "d6 = {#:\"abc\"}"
   ]
  },
  {
   "cell_type": "code",
   "execution_count": 112,
   "id": "edfbe631-c509-4d58-8c0b-aedfd6a113a1",
   "metadata": {},
   "outputs": [
    {
     "ename": "SyntaxError",
     "evalue": "invalid syntax (4057598078.py, line 1)",
     "output_type": "error",
     "traceback": [
      "\u001b[1;36m  Cell \u001b[1;32mIn[112], line 1\u001b[1;36m\u001b[0m\n\u001b[1;33m    d7 = {@:\"abc\"}\u001b[0m\n\u001b[1;37m          ^\u001b[0m\n\u001b[1;31mSyntaxError\u001b[0m\u001b[1;31m:\u001b[0m invalid syntax\n"
     ]
    }
   ],
   "source": [
    "d7 = {@:\"abc\"}"
   ]
  },
  {
   "cell_type": "code",
   "execution_count": 113,
   "id": "abc49f64-8bf8-48c0-8657-b0225c75b266",
   "metadata": {},
   "outputs": [
    {
     "ename": "SyntaxError",
     "evalue": "incomplete input (2278644317.py, line 1)",
     "output_type": "error",
     "traceback": [
      "\u001b[1;36m  Cell \u001b[1;32mIn[113], line 1\u001b[1;36m\u001b[0m\n\u001b[1;33m    d8 = {[1,2,3] :\"abc\"\u001b[0m\n\u001b[1;37m                        ^\u001b[0m\n\u001b[1;31mSyntaxError\u001b[0m\u001b[1;31m:\u001b[0m incomplete input\n"
     ]
    }
   ],
   "source": [
    "d8 = {[1,2,3] :\"abc\""
   ]
  },
  {
   "cell_type": "code",
   "execution_count": 116,
   "id": "07845d7b-1e14-48db-8b6c-d37917164e1d",
   "metadata": {},
   "outputs": [],
   "source": [
    "d9 = {(1,2,3,4): \"abc\"}"
   ]
  },
  {
   "cell_type": "code",
   "execution_count": 117,
   "id": "4548884c-ab4b-48d0-aad8-19d32040f4fe",
   "metadata": {},
   "outputs": [
    {
     "data": {
      "text/plain": [
       "{(1, 2, 3, 4): 'abc'}"
      ]
     },
     "execution_count": 117,
     "metadata": {},
     "output_type": "execute_result"
    }
   ],
   "source": [
    "d9"
   ]
  },
  {
   "cell_type": "code",
   "execution_count": 118,
   "id": "fedf06e2-e94c-4116-ac0f-63b124bac9a3",
   "metadata": {},
   "outputs": [
    {
     "ename": "TypeError",
     "evalue": "unhashable type: 'set'",
     "output_type": "error",
     "traceback": [
      "\u001b[1;31m---------------------------------------------------------------------------\u001b[0m",
      "\u001b[1;31mTypeError\u001b[0m                                 Traceback (most recent call last)",
      "Cell \u001b[1;32mIn[118], line 1\u001b[0m\n\u001b[1;32m----> 1\u001b[0m d10 \u001b[38;5;241m=\u001b[39m {{\u001b[38;5;241m1\u001b[39m,\u001b[38;5;241m2\u001b[39m,\u001b[38;5;241m3\u001b[39m} :\u001b[38;5;124m\"\u001b[39m\u001b[38;5;124mabc\u001b[39m\u001b[38;5;124m\"\u001b[39m}\n",
      "\u001b[1;31mTypeError\u001b[0m: unhashable type: 'set'"
     ]
    }
   ],
   "source": [
    "d10 = {{1,2,3} :\"abc\"}"
   ]
  },
  {
   "cell_type": "code",
   "execution_count": 119,
   "id": "345dd9a0-1434-472d-bb29-8b98838cbf01",
   "metadata": {},
   "outputs": [
    {
     "ename": "TypeError",
     "evalue": "unhashable type: 'dict'",
     "output_type": "error",
     "traceback": [
      "\u001b[1;31m---------------------------------------------------------------------------\u001b[0m",
      "\u001b[1;31mTypeError\u001b[0m                                 Traceback (most recent call last)",
      "Cell \u001b[1;32mIn[119], line 1\u001b[0m\n\u001b[1;32m----> 1\u001b[0m d11 \u001b[38;5;241m=\u001b[39m {{\u001b[38;5;124m\"\u001b[39m\u001b[38;5;124mkey\u001b[39m\u001b[38;5;124m\"\u001b[39m: \u001b[38;5;241m234\u001b[39m}:\u001b[38;5;124m\"\u001b[39m\u001b[38;5;124mabc\u001b[39m\u001b[38;5;124m\"\u001b[39m}\n",
      "\u001b[1;31mTypeError\u001b[0m: unhashable type: 'dict'"
     ]
    }
   ],
   "source": [
    "d11 = {{\"key\": 234}:\"abc\"}"
   ]
  },
  {
   "cell_type": "code",
   "execution_count": 121,
   "id": "01e00f91-5b96-4864-a3be-d109bdc9dc65",
   "metadata": {},
   "outputs": [],
   "source": [
    "d12 = {\"course_name\": [\"data science master\", \"web developent\", \"dsa with java system design\"]}"
   ]
  },
  {
   "cell_type": "code",
   "execution_count": 122,
   "id": "af3aaf88-61d9-48d1-ba89-9d05579bb68a",
   "metadata": {},
   "outputs": [
    {
     "data": {
      "text/plain": [
       "{'course_name': ['data science master',\n",
       "  'web developent',\n",
       "  'dsa with java system design']}"
      ]
     },
     "execution_count": 122,
     "metadata": {},
     "output_type": "execute_result"
    }
   ],
   "source": [
    "d12"
   ]
  },
  {
   "cell_type": "code",
   "execution_count": 123,
   "id": "94b24a7d-0edd-41b6-88e7-668e7d073a4a",
   "metadata": {},
   "outputs": [],
   "source": [
    "d13 = {\"key\" :(1,2,3,4,5)}"
   ]
  },
  {
   "cell_type": "code",
   "execution_count": 124,
   "id": "b28e5df4-b826-48b9-bc58-4f49d2ea2434",
   "metadata": {},
   "outputs": [],
   "source": [
    "d14 = {\"key\": {1,2,3,4,5}}"
   ]
  },
  {
   "cell_type": "code",
   "execution_count": 125,
   "id": "10691f83-b18e-4ed8-bec9-7e43d51545cf",
   "metadata": {},
   "outputs": [],
   "source": [
    "d15 = {\"key\": {\"name\": \"abhi\", \"class\": \"data scince\"}}"
   ]
  },
  {
   "cell_type": "code",
   "execution_count": 126,
   "id": "84424f82-fbbf-40f3-9d1c-c3cb94eb030a",
   "metadata": {},
   "outputs": [
    {
     "data": {
      "text/plain": [
       "{'key': {'name': 'abhi', 'class': 'data scince'}}"
      ]
     },
     "execution_count": 126,
     "metadata": {},
     "output_type": "execute_result"
    }
   ],
   "source": [
    "d15"
   ]
  },
  {
   "cell_type": "code",
   "execution_count": 140,
   "id": "af226bd3-4f4e-4a96-9263-dcfe07f57206",
   "metadata": {},
   "outputs": [],
   "source": [
    "d16 = {\"batch_name\": [\"data science master\", \"web dev\", \"dsa with java\"], \"start_date\": (28,6,2024), \"mentor_name\": {\"krish naik\", \"sudhanshu sir\", \"hitesh sir\", \"bappy\"}}"
   ]
  },
  {
   "cell_type": "code",
   "execution_count": 129,
   "id": "156d6b96-c519-4397-ab6e-462f363169a9",
   "metadata": {},
   "outputs": [
    {
     "data": {
      "text/plain": [
       "{'batch_name': ['data science master', 'web dev', 'dsa with java'],\n",
       " 'start_data': (28, 6, 2024),\n",
       " 'mentor_name': {'bappy', 'hitesh sir', 'krish naik', 'sudhanshu sir'}}"
      ]
     },
     "execution_count": 129,
     "metadata": {},
     "output_type": "execute_result"
    }
   ],
   "source": [
    "d16"
   ]
  },
  {
   "cell_type": "code",
   "execution_count": 141,
   "id": "f9601888-7083-44e7-819b-ae288c4b7354",
   "metadata": {},
   "outputs": [],
   "source": [
    "d16[\"timing\"] = [22,7,2024]"
   ]
  },
  {
   "cell_type": "code",
   "execution_count": 131,
   "id": "17ff410d-6dce-4f0a-92a6-fd963506d5e0",
   "metadata": {},
   "outputs": [
    {
     "data": {
      "text/plain": [
       "{'batch_name': ['data science master', 'web dev', 'dsa with java'],\n",
       " 'start_data': (28, 6, 2024),\n",
       " 'mentor_name': {'bappy', 'hitesh sir', 'krish naik', 'sudhanshu sir'},\n",
       " 'timing': [22, 7, 2024]}"
      ]
     },
     "execution_count": 131,
     "metadata": {},
     "output_type": "execute_result"
    }
   ],
   "source": [
    "d16"
   ]
  },
  {
   "cell_type": "code",
   "execution_count": 142,
   "id": "8c3d778e-dd25-40e8-9959-6d22ca407f9e",
   "metadata": {},
   "outputs": [],
   "source": [
    "d16[\"upcoming batch\"] = [\"dsa with python\", \"cloud computing\", \"cyber security\", \"deoops\"]"
   ]
  },
  {
   "cell_type": "code",
   "execution_count": 133,
   "id": "1940d357-9fae-41e8-a4af-3253c5ada982",
   "metadata": {},
   "outputs": [
    {
     "data": {
      "text/plain": [
       "{'batch_name': ['data science master', 'web dev', 'dsa with java'],\n",
       " 'start_data': (28, 6, 2024),\n",
       " 'mentor_name': {'bappy', 'hitesh sir', 'krish naik', 'sudhanshu sir'},\n",
       " 'timing': [22, 7, 2024],\n",
       " 'upcoming batch': ['dsa with python',\n",
       "  'cloud computing',\n",
       "  'cyber security',\n",
       "  'deoops']}"
      ]
     },
     "execution_count": 133,
     "metadata": {},
     "output_type": "execute_result"
    }
   ],
   "source": [
    "d16"
   ]
  },
  {
   "cell_type": "code",
   "execution_count": 134,
   "id": "9dbee77a-8cdf-4759-8a35-9597f6bbafe5",
   "metadata": {},
   "outputs": [
    {
     "data": {
      "text/plain": [
       "['data science master', 'web dev', 'dsa with java']"
      ]
     },
     "execution_count": 134,
     "metadata": {},
     "output_type": "execute_result"
    }
   ],
   "source": [
    "d16[\"batch_name\"]"
   ]
  },
  {
   "cell_type": "code",
   "execution_count": 136,
   "id": "161e7214-4cf4-4e40-8704-89d9bc211808",
   "metadata": {},
   "outputs": [
    {
     "data": {
      "text/plain": [
       "['dsa with python', 'cloud computing', 'cyber security', 'deoops']"
      ]
     },
     "execution_count": 136,
     "metadata": {},
     "output_type": "execute_result"
    }
   ],
   "source": [
    "d16[\"upcoming batch\"]"
   ]
  },
  {
   "cell_type": "code",
   "execution_count": 137,
   "id": "9b7a66b1-1d90-43e2-86e7-689b900b59a5",
   "metadata": {},
   "outputs": [
    {
     "data": {
      "text/plain": [
       "{'bappy', 'hitesh sir', 'krish naik', 'sudhanshu sir'}"
      ]
     },
     "execution_count": 137,
     "metadata": {},
     "output_type": "execute_result"
    }
   ],
   "source": [
    "d16[\"mentor_name\"]"
   ]
  },
  {
   "cell_type": "code",
   "execution_count": 138,
   "id": "1a45428a-0dc5-49ca-b74d-88f294028e51",
   "metadata": {},
   "outputs": [
    {
     "data": {
      "text/plain": [
       "[22, 7, 2024]"
      ]
     },
     "execution_count": 138,
     "metadata": {},
     "output_type": "execute_result"
    }
   ],
   "source": [
    "d16[\"timing\"]"
   ]
  },
  {
   "cell_type": "code",
   "execution_count": 143,
   "id": "f542f271-6665-46fd-828d-93497524b7ef",
   "metadata": {},
   "outputs": [
    {
     "data": {
      "text/plain": [
       "(28, 6, 2024)"
      ]
     },
     "execution_count": 143,
     "metadata": {},
     "output_type": "execute_result"
    }
   ],
   "source": [
    "d16[\"start_date\"]"
   ]
  },
  {
   "cell_type": "code",
   "execution_count": 146,
   "id": "3ba08988-057d-4ba2-98c9-58c2d41b8306",
   "metadata": {},
   "outputs": [
    {
     "data": {
      "text/plain": [
       "{'batch_name': ['data science master', 'web dev', 'dsa with java'],\n",
       " 'start_date': (28, 6, 2024),\n",
       " 'mentor_name': {'bappy', 'hitesh sir', 'krish naik', 'sudhanshu sir'},\n",
       " 'timing': [22, 7, 2024],\n",
       " 'upcoming batch': ['dsa with python',\n",
       "  'cloud computing',\n",
       "  'cyber security',\n",
       "  'deoops']}"
      ]
     },
     "execution_count": 146,
     "metadata": {},
     "output_type": "execute_result"
    }
   ],
   "source": [
    "d16"
   ]
  },
  {
   "cell_type": "code",
   "execution_count": 148,
   "id": "4f44288d-c99f-4088-be34-328639eeef88",
   "metadata": {},
   "outputs": [],
   "source": [
    "d16[\"name\"] = \"abhi\""
   ]
  },
  {
   "cell_type": "code",
   "execution_count": 149,
   "id": "0e9262d2-a4ea-4981-9002-5e5c147e2f70",
   "metadata": {},
   "outputs": [
    {
     "data": {
      "text/plain": [
       "{'batch_name': ['data science master', 'web dev', 'dsa with java'],\n",
       " 'start_date': (28, 6, 2024),\n",
       " 'mentor_name': {'bappy', 'hitesh sir', 'krish naik', 'sudhanshu sir'},\n",
       " 'timing': [22, 7, 2024],\n",
       " 'upcoming batch': ['dsa with python',\n",
       "  'cloud computing',\n",
       "  'cyber security',\n",
       "  'deoops'],\n",
       " 'name': 'abhi'}"
      ]
     },
     "execution_count": 149,
     "metadata": {},
     "output_type": "execute_result"
    }
   ],
   "source": [
    "d16"
   ]
  },
  {
   "cell_type": "code",
   "execution_count": 150,
   "id": "5608e8c3-d710-4040-95fd-38c3dba38ae0",
   "metadata": {},
   "outputs": [
    {
     "data": {
      "text/plain": [
       "'ABHI'"
      ]
     },
     "execution_count": 150,
     "metadata": {},
     "output_type": "execute_result"
    }
   ],
   "source": [
    "d16[\"name\"].upper()"
   ]
  },
  {
   "cell_type": "code",
   "execution_count": 151,
   "id": "d890a3f2-b0e1-4676-b886-12afa76d67e0",
   "metadata": {},
   "outputs": [
    {
     "data": {
      "text/plain": [
       "{'key': {'name': 'abhi', 'class': 'data scince'}}"
      ]
     },
     "execution_count": 151,
     "metadata": {},
     "output_type": "execute_result"
    }
   ],
   "source": [
    "d15"
   ]
  },
  {
   "cell_type": "code",
   "execution_count": 153,
   "id": "3f763f25-6eb9-4f9a-8f93-2239a666c0a2",
   "metadata": {},
   "outputs": [
    {
     "data": {
      "text/plain": [
       "{'name': 'abhi', 'class': 'data scince'}"
      ]
     },
     "execution_count": 153,
     "metadata": {},
     "output_type": "execute_result"
    }
   ],
   "source": [
    "d15[\"key\"]"
   ]
  },
  {
   "cell_type": "code",
   "execution_count": 155,
   "id": "7a96debb-182b-4c8f-a9cf-46fbbe335d06",
   "metadata": {},
   "outputs": [
    {
     "data": {
      "text/plain": [
       "dict"
      ]
     },
     "execution_count": 155,
     "metadata": {},
     "output_type": "execute_result"
    }
   ],
   "source": [
    "type(d15[\"key\"])"
   ]
  },
  {
   "cell_type": "code",
   "execution_count": 156,
   "id": "12305ff5-8255-4183-9acf-46c0f911a55e",
   "metadata": {},
   "outputs": [
    {
     "data": {
      "text/plain": [
       "'data scince'"
      ]
     },
     "execution_count": 156,
     "metadata": {},
     "output_type": "execute_result"
    }
   ],
   "source": [
    "d15[\"key\"][\"class\"]"
   ]
  },
  {
   "cell_type": "code",
   "execution_count": 157,
   "id": "4ff4b01b-0269-443c-a6fc-4549d2860a2c",
   "metadata": {},
   "outputs": [
    {
     "data": {
      "text/plain": [
       "{'key': {'name': 'abhi', 'class': 'data scince'}}"
      ]
     },
     "execution_count": 157,
     "metadata": {},
     "output_type": "execute_result"
    }
   ],
   "source": [
    "d15"
   ]
  },
  {
   "cell_type": "code",
   "execution_count": 158,
   "id": "af56bb55-7571-4ed1-8bcc-0f64fb30447e",
   "metadata": {},
   "outputs": [],
   "source": [
    "d15[\"key1\"] = \"abc\""
   ]
  },
  {
   "cell_type": "code",
   "execution_count": 159,
   "id": "4806ee07-8e70-48c0-93ab-2847c51c0041",
   "metadata": {},
   "outputs": [
    {
     "data": {
      "text/plain": [
       "{'key': {'name': 'abhi', 'class': 'data scince'}, 'key1': 'abc'}"
      ]
     },
     "execution_count": 159,
     "metadata": {},
     "output_type": "execute_result"
    }
   ],
   "source": [
    "d15"
   ]
  },
  {
   "cell_type": "code",
   "execution_count": 160,
   "id": "3e4c6bfd-ee6a-45dc-927f-33daabecd725",
   "metadata": {},
   "outputs": [],
   "source": [
    "d15.clear()"
   ]
  },
  {
   "cell_type": "code",
   "execution_count": 161,
   "id": "a913f0c1-aa3b-4e9a-848c-2f8205cbcbe8",
   "metadata": {},
   "outputs": [
    {
     "data": {
      "text/plain": [
       "6"
      ]
     },
     "execution_count": 161,
     "metadata": {},
     "output_type": "execute_result"
    }
   ],
   "source": [
    "len(d16)"
   ]
  },
  {
   "cell_type": "code",
   "execution_count": 162,
   "id": "94ab26fb-2a39-4768-8dca-3f425c41f249",
   "metadata": {},
   "outputs": [
    {
     "data": {
      "text/plain": [
       "{'batch_name': ['data science master', 'web dev', 'dsa with java'],\n",
       " 'start_date': (28, 6, 2024),\n",
       " 'mentor_name': {'bappy', 'hitesh sir', 'krish naik', 'sudhanshu sir'},\n",
       " 'timing': [22, 7, 2024],\n",
       " 'upcoming batch': ['dsa with python',\n",
       "  'cloud computing',\n",
       "  'cyber security',\n",
       "  'deoops'],\n",
       " 'name': 'abhi'}"
      ]
     },
     "execution_count": 162,
     "metadata": {},
     "output_type": "execute_result"
    }
   ],
   "source": [
    "d16"
   ]
  },
  {
   "cell_type": "code",
   "execution_count": 163,
   "id": "9bb5ad8b-f54c-4744-ac96-464d7fd858fe",
   "metadata": {},
   "outputs": [
    {
     "data": {
      "text/plain": [
       "dict_keys(['batch_name', 'start_date', 'mentor_name', 'timing', 'upcoming batch', 'name'])"
      ]
     },
     "execution_count": 163,
     "metadata": {},
     "output_type": "execute_result"
    }
   ],
   "source": [
    "d16.keys()"
   ]
  },
  {
   "cell_type": "code",
   "execution_count": 164,
   "id": "7104873c-76dc-47f8-815b-768b4f16262b",
   "metadata": {},
   "outputs": [
    {
     "data": {
      "text/plain": [
       "dict_values([['data science master', 'web dev', 'dsa with java'], (28, 6, 2024), {'bappy', 'sudhanshu sir', 'krish naik', 'hitesh sir'}, [22, 7, 2024], ['dsa with python', 'cloud computing', 'cyber security', 'deoops'], 'abhi'])"
      ]
     },
     "execution_count": 164,
     "metadata": {},
     "output_type": "execute_result"
    }
   ],
   "source": [
    "d16.values()"
   ]
  },
  {
   "cell_type": "code",
   "execution_count": 165,
   "id": "f8958ac0-0228-43f9-aa18-d9570eef8ff2",
   "metadata": {},
   "outputs": [
    {
     "data": {
      "text/plain": [
       "list[{'batch_name': ['data science master', 'web dev', 'dsa with java'], 'start_date': (28, 6, 2024), 'mentor_name': {'bappy', 'sudhanshu sir', 'krish naik', 'hitesh sir'}, 'timing': [22, 7, 2024], 'upcoming batch': ['dsa with python', 'cloud computing', 'cyber security', 'deoops'], 'name': 'abhi'}]"
      ]
     },
     "execution_count": 165,
     "metadata": {},
     "output_type": "execute_result"
    }
   ],
   "source": [
    "list[d16]"
   ]
  },
  {
   "cell_type": "code",
   "execution_count": 166,
   "id": "e4235310-ebdb-49fe-a8fd-5dc8db2b20ae",
   "metadata": {},
   "outputs": [
    {
     "data": {
      "text/plain": [
       "[['data science master', 'web dev', 'dsa with java'],\n",
       " (28, 6, 2024),\n",
       " {'bappy', 'hitesh sir', 'krish naik', 'sudhanshu sir'},\n",
       " [22, 7, 2024],\n",
       " ['dsa with python', 'cloud computing', 'cyber security', 'deoops'],\n",
       " 'abhi']"
      ]
     },
     "execution_count": 166,
     "metadata": {},
     "output_type": "execute_result"
    }
   ],
   "source": [
    "list(d16.values())"
   ]
  },
  {
   "cell_type": "code",
   "execution_count": 167,
   "id": "2ad73075-2eae-4113-ba54-c63dd87bab10",
   "metadata": {},
   "outputs": [
    {
     "data": {
      "text/plain": [
       "['batch_name', 'start_date', 'mentor_name', 'timing', 'upcoming batch', 'name']"
      ]
     },
     "execution_count": 167,
     "metadata": {},
     "output_type": "execute_result"
    }
   ],
   "source": [
    "list(d16.keys())"
   ]
  },
  {
   "cell_type": "code",
   "execution_count": 170,
   "id": "d17addd5-bf76-44e0-88c3-88ec1622d03e",
   "metadata": {},
   "outputs": [
    {
     "data": {
      "text/plain": [
       "[('batch_name', ['data science master', 'web dev', 'dsa with java']),\n",
       " ('start_date', (28, 6, 2024)),\n",
       " ('mentor_name', {'bappy', 'hitesh sir', 'krish naik', 'sudhanshu sir'}),\n",
       " ('timing', [22, 7, 2024]),\n",
       " ('upcoming batch',\n",
       "  ['dsa with python', 'cloud computing', 'cyber security', 'deoops']),\n",
       " ('name', 'abhi')]"
      ]
     },
     "execution_count": 170,
     "metadata": {},
     "output_type": "execute_result"
    }
   ],
   "source": [
    "list(d16.items())"
   ]
  },
  {
   "cell_type": "code",
   "execution_count": 171,
   "id": "739935b1-a17c-4686-9ceb-ea0ab9ccb0d2",
   "metadata": {},
   "outputs": [
    {
     "data": {
      "text/plain": [
       "{'batch_name': ['data science master', 'web dev', 'dsa with java'],\n",
       " 'start_date': (28, 6, 2024),\n",
       " 'mentor_name': {'bappy', 'hitesh sir', 'krish naik', 'sudhanshu sir'},\n",
       " 'timing': [22, 7, 2024],\n",
       " 'upcoming batch': ['dsa with python',\n",
       "  'cloud computing',\n",
       "  'cyber security',\n",
       "  'deoops'],\n",
       " 'name': 'abhi'}"
      ]
     },
     "execution_count": 171,
     "metadata": {},
     "output_type": "execute_result"
    }
   ],
   "source": [
    "d16"
   ]
  },
  {
   "cell_type": "code",
   "execution_count": 172,
   "id": "72a8f272-9a5a-4c9f-aaaf-dc51ebe58278",
   "metadata": {},
   "outputs": [],
   "source": [
    "d17 = d16.copy()"
   ]
  },
  {
   "cell_type": "code",
   "execution_count": 173,
   "id": "54d57a0a-bb98-42a2-87ed-485318dca175",
   "metadata": {},
   "outputs": [
    {
     "data": {
      "text/plain": [
       "{'batch_name': ['data science master', 'web dev', 'dsa with java'],\n",
       " 'start_date': (28, 6, 2024),\n",
       " 'mentor_name': {'bappy', 'hitesh sir', 'krish naik', 'sudhanshu sir'},\n",
       " 'timing': [22, 7, 2024],\n",
       " 'upcoming batch': ['dsa with python',\n",
       "  'cloud computing',\n",
       "  'cyber security',\n",
       "  'deoops'],\n",
       " 'name': 'abhi'}"
      ]
     },
     "execution_count": 173,
     "metadata": {},
     "output_type": "execute_result"
    }
   ],
   "source": [
    "d17"
   ]
  },
  {
   "cell_type": "code",
   "execution_count": 174,
   "id": "b308fa79-82cb-4965-8d41-caf30ca4113f",
   "metadata": {},
   "outputs": [],
   "source": [
    "d18 = d16"
   ]
  },
  {
   "cell_type": "code",
   "execution_count": 175,
   "id": "5907f149-ca35-412f-88be-2585dde32c35",
   "metadata": {},
   "outputs": [
    {
     "data": {
      "text/plain": [
       "{'batch_name': ['data science master', 'web dev', 'dsa with java'],\n",
       " 'start_date': (28, 6, 2024),\n",
       " 'mentor_name': {'bappy', 'hitesh sir', 'krish naik', 'sudhanshu sir'},\n",
       " 'timing': [22, 7, 2024],\n",
       " 'upcoming batch': ['dsa with python',\n",
       "  'cloud computing',\n",
       "  'cyber security',\n",
       "  'deoops'],\n",
       " 'name': 'abhi'}"
      ]
     },
     "execution_count": 175,
     "metadata": {},
     "output_type": "execute_result"
    }
   ],
   "source": [
    "d18"
   ]
  },
  {
   "cell_type": "code",
   "execution_count": 178,
   "id": "9a011102-c9be-4c08-9f09-167876d228cb",
   "metadata": {},
   "outputs": [],
   "source": [
    "del d16 [\"name\"]"
   ]
  },
  {
   "cell_type": "code",
   "execution_count": 179,
   "id": "2d6cbd23-5bba-4ffe-a107-603da286da02",
   "metadata": {},
   "outputs": [
    {
     "data": {
      "text/plain": [
       "{'batch_name': ['data science master', 'web dev', 'dsa with java'],\n",
       " 'start_date': (28, 6, 2024),\n",
       " 'mentor_name': {'bappy', 'hitesh sir', 'krish naik', 'sudhanshu sir'},\n",
       " 'timing': [22, 7, 2024],\n",
       " 'upcoming batch': ['dsa with python',\n",
       "  'cloud computing',\n",
       "  'cyber security',\n",
       "  'deoops']}"
      ]
     },
     "execution_count": 179,
     "metadata": {},
     "output_type": "execute_result"
    }
   ],
   "source": [
    "d16"
   ]
  },
  {
   "cell_type": "code",
   "execution_count": 180,
   "id": "b6480fcd-739b-496a-9163-336876f6b7de",
   "metadata": {},
   "outputs": [
    {
     "data": {
      "text/plain": [
       "{'batch_name': ['data science master', 'web dev', 'dsa with java'],\n",
       " 'start_date': (28, 6, 2024),\n",
       " 'mentor_name': {'bappy', 'hitesh sir', 'krish naik', 'sudhanshu sir'},\n",
       " 'timing': [22, 7, 2024],\n",
       " 'upcoming batch': ['dsa with python',\n",
       "  'cloud computing',\n",
       "  'cyber security',\n",
       "  'deoops']}"
      ]
     },
     "execution_count": 180,
     "metadata": {},
     "output_type": "execute_result"
    }
   ],
   "source": [
    "d18"
   ]
  },
  {
   "cell_type": "code",
   "execution_count": 183,
   "id": "e9a5900d-9b7e-444e-87fa-dffa8f93eb77",
   "metadata": {},
   "outputs": [
    {
     "ename": "TypeError",
     "evalue": "pop expected at least 1 argument, got 0",
     "output_type": "error",
     "traceback": [
      "\u001b[1;31m---------------------------------------------------------------------------\u001b[0m",
      "\u001b[1;31mTypeError\u001b[0m                                 Traceback (most recent call last)",
      "Cell \u001b[1;32mIn[183], line 1\u001b[0m\n\u001b[1;32m----> 1\u001b[0m \u001b[43md16\u001b[49m\u001b[38;5;241;43m.\u001b[39;49m\u001b[43mpop\u001b[49m\u001b[43m(\u001b[49m\u001b[43m)\u001b[49m\n",
      "\u001b[1;31mTypeError\u001b[0m: pop expected at least 1 argument, got 0"
     ]
    }
   ],
   "source": [
    "d16.pop()"
   ]
  },
  {
   "cell_type": "code",
   "execution_count": 184,
   "id": "c0d09a41-e6d9-495c-98ba-03599cb729f2",
   "metadata": {},
   "outputs": [
    {
     "data": {
      "text/plain": [
       "[22, 7, 2024]"
      ]
     },
     "execution_count": 184,
     "metadata": {},
     "output_type": "execute_result"
    }
   ],
   "source": [
    "d16.pop(\"timing\")"
   ]
  },
  {
   "cell_type": "code",
   "execution_count": 185,
   "id": "0a3901c0-d41f-47d2-9d8d-0441990b141b",
   "metadata": {},
   "outputs": [
    {
     "data": {
      "text/plain": [
       "{'bappy', 'hitesh sir', 'krish naik', 'sudhanshu sir'}"
      ]
     },
     "execution_count": 185,
     "metadata": {},
     "output_type": "execute_result"
    }
   ],
   "source": [
    "d16.pop(\"mentor_name\")"
   ]
  },
  {
   "cell_type": "code",
   "execution_count": 186,
   "id": "4ce2209b-45e6-4161-b482-20c77ef7db24",
   "metadata": {},
   "outputs": [
    {
     "data": {
      "text/plain": [
       "{'batch_name': ['data science master', 'web dev', 'dsa with java'],\n",
       " 'start_date': (28, 6, 2024),\n",
       " 'upcoming batch': ['dsa with python',\n",
       "  'cloud computing',\n",
       "  'cyber security',\n",
       "  'deoops']}"
      ]
     },
     "execution_count": 186,
     "metadata": {},
     "output_type": "execute_result"
    }
   ],
   "source": [
    "d16"
   ]
  },
  {
   "cell_type": "code",
   "execution_count": 187,
   "id": "4700d9c5-7935-4209-bf21-13fba353e76e",
   "metadata": {},
   "outputs": [
    {
     "data": {
      "text/plain": [
       "{1: ('a', 'b', 'c'), 2: ('a', 'b', 'c'), 3: ('a', 'b', 'c')}"
      ]
     },
     "execution_count": 187,
     "metadata": {},
     "output_type": "execute_result"
    }
   ],
   "source": [
    "d.fromkeys((1,2,3),(\"a\",\"b\", \"c\"))"
   ]
  },
  {
   "cell_type": "code",
   "execution_count": 190,
   "id": "bbe581ae-4afb-4bcb-98e0-71a52910eead",
   "metadata": {},
   "outputs": [],
   "source": [
    "d19 = {\"key1\": \"value\", \"key2\" : \"value2\"}\n",
    "d20 = {\"key3\": \"value3\", \"key4\" : \"value4\"}"
   ]
  },
  {
   "cell_type": "code",
   "execution_count": 191,
   "id": "bf52d3b3-69e5-4e7c-804c-dd40d93b766a",
   "metadata": {},
   "outputs": [
    {
     "data": {
      "text/plain": [
       "({'key1': 'value', 'key2': 'value2'}, {'key3': 'value3', 'key4': 'value4'})"
      ]
     },
     "execution_count": 191,
     "metadata": {},
     "output_type": "execute_result"
    }
   ],
   "source": [
    "(d19,d20)"
   ]
  },
  {
   "cell_type": "code",
   "execution_count": 193,
   "id": "27d068ab-062e-4cb6-b739-72ed57eccb24",
   "metadata": {},
   "outputs": [
    {
     "data": {
      "text/plain": [
       "({'key1': 'value', 'key2': 'value2'}, {'key3': 'value3', 'key4': 'value4'})"
      ]
     },
     "execution_count": 193,
     "metadata": {},
     "output_type": "execute_result"
    }
   ],
   "source": [
    "(d19,d20)"
   ]
  },
  {
   "cell_type": "code",
   "execution_count": 195,
   "id": "095d4775-8a17-49cb-9f5b-53c1fdff2bde",
   "metadata": {},
   "outputs": [],
   "source": [
    "d19.update(d20)"
   ]
  },
  {
   "cell_type": "code",
   "execution_count": 196,
   "id": "6cc1265d-b24a-4964-860f-afedd6f60ac6",
   "metadata": {},
   "outputs": [
    {
     "data": {
      "text/plain": [
       "{'key1': 'value', 'key2': 'value2', 'key3': 'value3', 'key4': 'value4'}"
      ]
     },
     "execution_count": 196,
     "metadata": {},
     "output_type": "execute_result"
    }
   ],
   "source": [
    "d19"
   ]
  },
  {
   "cell_type": "code",
   "execution_count": 197,
   "id": "75236f14-5484-4f8f-813a-c948b8deef15",
   "metadata": {},
   "outputs": [
    {
     "data": {
      "text/plain": [
       "{'key3': 'value3', 'key4': 'value4'}"
      ]
     },
     "execution_count": 197,
     "metadata": {},
     "output_type": "execute_result"
    }
   ],
   "source": [
    "d20"
   ]
  },
  {
   "cell_type": "code",
   "execution_count": 198,
   "id": "2f89dfd9-66c3-4bf3-9ac7-5340db86563d",
   "metadata": {},
   "outputs": [],
   "source": [
    "d20.update(d19)"
   ]
  },
  {
   "cell_type": "code",
   "execution_count": 199,
   "id": "192b34c8-ef84-45ca-b814-4e028033cd13",
   "metadata": {},
   "outputs": [
    {
     "data": {
      "text/plain": [
       "{'key3': 'value3', 'key4': 'value4', 'key1': 'value', 'key2': 'value2'}"
      ]
     },
     "execution_count": 199,
     "metadata": {},
     "output_type": "execute_result"
    }
   ],
   "source": [
    "d20"
   ]
  },
  {
   "cell_type": "code",
   "execution_count": 200,
   "id": "808e5557-fb4d-4ab9-b77f-c40732008d7c",
   "metadata": {},
   "outputs": [],
   "source": [
    "d20.get(\"abhi\")"
   ]
  },
  {
   "cell_type": "code",
   "execution_count": 201,
   "id": "003e6825-9fa1-49b9-8849-e4eb238caeee",
   "metadata": {},
   "outputs": [
    {
     "data": {
      "text/plain": [
       "'value3'"
      ]
     },
     "execution_count": 201,
     "metadata": {},
     "output_type": "execute_result"
    }
   ],
   "source": [
    "d20.get(\"key3\")"
   ]
  },
  {
   "cell_type": "code",
   "execution_count": 202,
   "id": "8e57c5b3-0bf0-4b3d-a5f7-e6ea7fd5bff3",
   "metadata": {},
   "outputs": [
    {
     "ename": "KeyError",
     "evalue": "'abhi'",
     "output_type": "error",
     "traceback": [
      "\u001b[1;31m---------------------------------------------------------------------------\u001b[0m",
      "\u001b[1;31mKeyError\u001b[0m                                  Traceback (most recent call last)",
      "Cell \u001b[1;32mIn[202], line 1\u001b[0m\n\u001b[1;32m----> 1\u001b[0m \u001b[43md20\u001b[49m\u001b[43m[\u001b[49m\u001b[38;5;124;43m\"\u001b[39;49m\u001b[38;5;124;43mabhi\u001b[39;49m\u001b[38;5;124;43m\"\u001b[39;49m\u001b[43m]\u001b[49m\n",
      "\u001b[1;31mKeyError\u001b[0m: 'abhi'"
     ]
    }
   ],
   "source": [
    "d20[\"abhi\"]"
   ]
  },
  {
   "cell_type": "code",
   "execution_count": null,
   "id": "4ac0c6e2-55b9-44f5-9fc4-93573cee1ea2",
   "metadata": {},
   "outputs": [],
   "source": []
  },
  {
   "cell_type": "markdown",
   "id": "f2a864b9-5a42-4fbc-838c-b88312c3d414",
   "metadata": {},
   "source": [
    "### Dictionary Comprehensions()"
   ]
  },
  {
   "cell_type": "code",
   "execution_count": 216,
   "id": "d614dd0c-a5f0-4a9e-93f2-736f48e50af4",
   "metadata": {},
   "outputs": [
    {
     "data": {
      "text/plain": [
       "{1: 1, 2: 4, 3: 9, 4: 16, 5: 25, 6: 36, 7: 49, 8: 64, 9: 81, 10: 100}"
      ]
     },
     "execution_count": 216,
     "metadata": {},
     "output_type": "execute_result"
    }
   ],
   "source": [
    "{ i : i**2 for i in range(1,11)}"
   ]
  },
  {
   "cell_type": "code",
   "execution_count": 211,
   "id": "dd2a5d9e-347e-4d2d-9192-ffd66f3487de",
   "metadata": {},
   "outputs": [
    {
     "data": {
      "text/plain": [
       "[1, 2, 3, 4, 5, 6, 7, 8, 9, 10]"
      ]
     },
     "execution_count": 211,
     "metadata": {},
     "output_type": "execute_result"
    }
   ],
   "source": [
    "list(range(1,11))"
   ]
  },
  {
   "cell_type": "code",
   "execution_count": 212,
   "id": "7b741f0d-2265-4bec-97a3-68eaebee392c",
   "metadata": {},
   "outputs": [
    {
     "data": {
      "text/plain": [
       "{1: 11, 2: 12, 3: 13, 4: 14, 5: 15, 6: 16, 7: 17, 8: 18, 9: 19, 10: 20}"
      ]
     },
     "execution_count": 212,
     "metadata": {},
     "output_type": "execute_result"
    }
   ],
   "source": [
    "{ i : i+10 for i in range(1,11)}"
   ]
  },
  {
   "cell_type": "code",
   "execution_count": 214,
   "id": "9be14432-53af-4225-842d-e564b95a0de6",
   "metadata": {},
   "outputs": [
    {
     "data": {
      "text/plain": [
       "[2, 3, 4, 5, 6, 7, 8, 9]"
      ]
     },
     "execution_count": 214,
     "metadata": {},
     "output_type": "execute_result"
    }
   ],
   "source": [
    "list(range(2,10))"
   ]
  },
  {
   "cell_type": "code",
   "execution_count": 220,
   "id": "2a5ce96f-0512-4f90-a694-66f7b8c378f8",
   "metadata": {},
   "outputs": [
    {
     "data": {
      "text/plain": [
       "{1: 0.0,\n",
       " 2: 0.3010299956639812,\n",
       " 3: 0.47712125471966244,\n",
       " 4: 0.6020599913279624,\n",
       " 5: 0.6989700043360189,\n",
       " 6: 0.7781512503836436,\n",
       " 7: 0.8450980400142568,\n",
       " 8: 0.9030899869919435,\n",
       " 9: 0.9542425094393249,\n",
       " 10: 1.0}"
      ]
     },
     "execution_count": 220,
     "metadata": {},
     "output_type": "execute_result"
    }
   ],
   "source": [
    "import math\n",
    "{i :math.log10(i) for i in range(1,11)}"
   ]
  },
  {
   "cell_type": "code",
   "execution_count": 221,
   "id": "2030e958-af2a-41b2-8c03-3a4f50ac7843",
   "metadata": {},
   "outputs": [
    {
     "data": {
      "text/plain": [
       "{'batch_name': ['data science master', 'web dev', 'dsa with java'],\n",
       " 'start_date': (28, 6, 2024),\n",
       " 'upcoming batch': ['dsa with python',\n",
       "  'cloud computing',\n",
       "  'cyber security',\n",
       "  'deoops']}"
      ]
     },
     "execution_count": 221,
     "metadata": {},
     "output_type": "execute_result"
    }
   ],
   "source": [
    "d16"
   ]
  },
  {
   "cell_type": "code",
   "execution_count": 224,
   "id": "c433af36-de90-4bb9-a1a8-d572275f480a",
   "metadata": {},
   "outputs": [
    {
     "data": {
      "text/plain": [
       "True"
      ]
     },
     "execution_count": 224,
     "metadata": {},
     "output_type": "execute_result"
    }
   ],
   "source": [
    "\"batch_name\" in d16"
   ]
  },
  {
   "cell_type": "code",
   "execution_count": 225,
   "id": "1a390911-670d-4a83-b833-02d140f69e29",
   "metadata": {},
   "outputs": [
    {
     "data": {
      "text/plain": [
       "False"
      ]
     },
     "execution_count": 225,
     "metadata": {},
     "output_type": "execute_result"
    }
   ],
   "source": [
    "\"mentor_name\" in d16"
   ]
  },
  {
   "cell_type": "code",
   "execution_count": 226,
   "id": "9d82b7a1-b4dd-46aa-be31-ffcf77c6f6af",
   "metadata": {},
   "outputs": [
    {
     "ename": "NameError",
     "evalue": "name 'd21' is not defined",
     "output_type": "error",
     "traceback": [
      "\u001b[1;31m---------------------------------------------------------------------------\u001b[0m",
      "\u001b[1;31mNameError\u001b[0m                                 Traceback (most recent call last)",
      "Cell \u001b[1;32mIn[226], line 1\u001b[0m\n\u001b[1;32m----> 1\u001b[0m \u001b[43md21\u001b[49m\n",
      "\u001b[1;31mNameError\u001b[0m: name 'd21' is not defined"
     ]
    }
   ],
   "source": [
    "d21"
   ]
  },
  {
   "cell_type": "code",
   "execution_count": 228,
   "id": "9b66ffb3-e63e-412f-94c7-ffa65653c698",
   "metadata": {},
   "outputs": [],
   "source": [
    "import math\n",
    "d21 = {i :math.log10(i) for i in range(1,11)}"
   ]
  },
  {
   "cell_type": "code",
   "execution_count": 229,
   "id": "8ccc1a55-0651-44cb-a1c8-a324f14b7e77",
   "metadata": {},
   "outputs": [
    {
     "data": {
      "text/plain": [
       "{1: 0.0,\n",
       " 2: 0.3010299956639812,\n",
       " 3: 0.47712125471966244,\n",
       " 4: 0.6020599913279624,\n",
       " 5: 0.6989700043360189,\n",
       " 6: 0.7781512503836436,\n",
       " 7: 0.8450980400142568,\n",
       " 8: 0.9030899869919435,\n",
       " 9: 0.9542425094393249,\n",
       " 10: 1.0}"
      ]
     },
     "execution_count": 229,
     "metadata": {},
     "output_type": "execute_result"
    }
   ],
   "source": [
    "d21"
   ]
  },
  {
   "cell_type": "code",
   "execution_count": 232,
   "id": "645b9cae-d8c7-4a10-bfdc-25da9a53f4b4",
   "metadata": {},
   "outputs": [
    {
     "data": {
      "text/plain": [
       "dict_keys([1, 2, 3, 4, 5, 6, 7, 8, 9, 10])"
      ]
     },
     "execution_count": 232,
     "metadata": {},
     "output_type": "execute_result"
    }
   ],
   "source": [
    "d21.keys()"
   ]
  },
  {
   "cell_type": "code",
   "execution_count": 237,
   "id": "65523965-a5d2-42ae-a4c5-b08a5783baf3",
   "metadata": {},
   "outputs": [
    {
     "name": "stdout",
     "output_type": "stream",
     "text": [
      "0.3010299956639812\n",
      "0.6020599913279624\n",
      "0.7781512503836436\n",
      "0.9030899869919435\n",
      "1.0\n"
     ]
    }
   ],
   "source": [
    "for i in d21.keys():\n",
    "    if i%2 == 0:\n",
    "        print(d21[i])"
   ]
  },
  {
   "cell_type": "code",
   "execution_count": null,
   "id": "8a30bd84-d763-41a0-be16-e9a6a4498a36",
   "metadata": {},
   "outputs": [],
   "source": []
  },
  {
   "cell_type": "code",
   "execution_count": null,
   "id": "2c5acc15-4872-4373-8bc6-fa0150423792",
   "metadata": {},
   "outputs": [],
   "source": []
  },
  {
   "cell_type": "markdown",
   "id": "276dc953-5e4f-4a83-8574-ccde37fac67b",
   "metadata": {},
   "source": [
    "## Function class"
   ]
  },
  {
   "cell_type": "code",
   "execution_count": 1,
   "id": "eaa751df-3e91-4e1f-abde-ebb634497b81",
   "metadata": {},
   "outputs": [
    {
     "name": "stdout",
     "output_type": "stream",
     "text": [
      "this is my program of function 1st class\n"
     ]
    }
   ],
   "source": [
    "print(\"this is my program of function 1st class\")"
   ]
  },
  {
   "cell_type": "code",
   "execution_count": 3,
   "id": "58da1b06-07db-4514-b594-ad0450bab9ab",
   "metadata": {},
   "outputs": [],
   "source": [
    "l = [1,2,3,4,5]"
   ]
  },
  {
   "cell_type": "code",
   "execution_count": 6,
   "id": "95e8c85f-c42e-4715-a0c5-2b80b37de7ec",
   "metadata": {},
   "outputs": [
    {
     "data": {
      "text/plain": [
       "5"
      ]
     },
     "execution_count": 6,
     "metadata": {},
     "output_type": "execute_result"
    }
   ],
   "source": [
    "len(l)"
   ]
  },
  {
   "cell_type": "code",
   "execution_count": 7,
   "id": "df45036c-52b5-4084-83eb-f6a6f3382bde",
   "metadata": {},
   "outputs": [
    {
     "ename": "SyntaxError",
     "evalue": "incomplete input (3861551224.py, line 1)",
     "output_type": "error",
     "traceback": [
      "\u001b[1;36m  Cell \u001b[1;32mIn[7], line 1\u001b[1;36m\u001b[0m\n\u001b[1;33m    def test():\u001b[0m\n\u001b[1;37m               ^\u001b[0m\n\u001b[1;31mSyntaxError\u001b[0m\u001b[1;31m:\u001b[0m incomplete input\n"
     ]
    }
   ],
   "source": [
    "def test():"
   ]
  },
  {
   "cell_type": "code",
   "execution_count": 8,
   "id": "2bf10329-4df6-479b-abc1-dbffe0b96482",
   "metadata": {},
   "outputs": [],
   "source": [
    "def test():\n",
    "    pass"
   ]
  },
  {
   "cell_type": "code",
   "execution_count": 9,
   "id": "64aad336-5a3c-4ed0-97b3-5f170b2eb9a3",
   "metadata": {},
   "outputs": [],
   "source": [
    "def test1():\n",
    "    print(\"this is my very very first function\")"
   ]
  },
  {
   "cell_type": "code",
   "execution_count": 10,
   "id": "1c0305b1-5295-4c29-b55a-c238217bcce1",
   "metadata": {},
   "outputs": [
    {
     "data": {
      "text/plain": [
       "<function __main__.test1()>"
      ]
     },
     "execution_count": 10,
     "metadata": {},
     "output_type": "execute_result"
    }
   ],
   "source": [
    "test1"
   ]
  },
  {
   "cell_type": "code",
   "execution_count": 11,
   "id": "b3acb263-f617-4b24-a640-e502ab538f8b",
   "metadata": {},
   "outputs": [
    {
     "name": "stdout",
     "output_type": "stream",
     "text": [
      "this is my very very first function\n"
     ]
    }
   ],
   "source": [
    "test1()"
   ]
  },
  {
   "cell_type": "code",
   "execution_count": 12,
   "id": "4a471249-60cc-441a-a6c0-12c94b8ffe06",
   "metadata": {},
   "outputs": [
    {
     "name": "stdout",
     "output_type": "stream",
     "text": [
      "this is my very very first function\n"
     ]
    },
    {
     "ename": "TypeError",
     "evalue": "unsupported operand type(s) for +: 'NoneType' and 'str'",
     "output_type": "error",
     "traceback": [
      "\u001b[1;31m---------------------------------------------------------------------------\u001b[0m",
      "\u001b[1;31mTypeError\u001b[0m                                 Traceback (most recent call last)",
      "Cell \u001b[1;32mIn[12], line 1\u001b[0m\n\u001b[1;32m----> 1\u001b[0m \u001b[43mtest1\u001b[49m\u001b[43m(\u001b[49m\u001b[43m)\u001b[49m\u001b[43m \u001b[49m\u001b[38;5;241;43m+\u001b[39;49m\u001b[43m \u001b[49m\u001b[38;5;124;43m\"\u001b[39;49m\u001b[38;5;124;43mabhi\u001b[39;49m\u001b[38;5;124;43m\"\u001b[39;49m\n",
      "\u001b[1;31mTypeError\u001b[0m: unsupported operand type(s) for +: 'NoneType' and 'str'"
     ]
    }
   ],
   "source": [
    "test1() + \"abhi\""
   ]
  },
  {
   "cell_type": "code",
   "execution_count": 13,
   "id": "664bc049-3898-485c-a5b6-551890059d8f",
   "metadata": {},
   "outputs": [],
   "source": [
    "def test2():\n",
    "    return \"this is my function with return\""
   ]
  },
  {
   "cell_type": "code",
   "execution_count": 14,
   "id": "d11cbb9e-15fd-44a1-966f-03a2250cac85",
   "metadata": {},
   "outputs": [
    {
     "data": {
      "text/plain": [
       "'this is my function with return'"
      ]
     },
     "execution_count": 14,
     "metadata": {},
     "output_type": "execute_result"
    }
   ],
   "source": [
    "test2()"
   ]
  },
  {
   "cell_type": "code",
   "execution_count": 19,
   "id": "74fd6d61-4bce-428f-b9ec-8e368a844de3",
   "metadata": {},
   "outputs": [
    {
     "data": {
      "text/plain": [
       "'this is my function with returnabhiyadav'"
      ]
     },
     "execution_count": 19,
     "metadata": {},
     "output_type": "execute_result"
    }
   ],
   "source": [
    "test2()  +  \"abhi\" + \"yadav\""
   ]
  },
  {
   "cell_type": "code",
   "execution_count": 26,
   "id": "bceeeccb-3c48-4ad4-9032-cbd26bb269ee",
   "metadata": {},
   "outputs": [],
   "source": [
    "def test3():\n",
    "    return 1,4,\"pwskills\", 34,45"
   ]
  },
  {
   "cell_type": "code",
   "execution_count": 25,
   "id": "1eb39c18-6a29-4639-9425-672003e38a00",
   "metadata": {},
   "outputs": [
    {
     "data": {
      "text/plain": [
       "(1, 4, 'pwskills', 34, 45)"
      ]
     },
     "execution_count": 25,
     "metadata": {},
     "output_type": "execute_result"
    }
   ],
   "source": [
    "test3()"
   ]
  },
  {
   "cell_type": "code",
   "execution_count": 22,
   "id": "108f7783-d37c-41e7-917d-5e5747044bb7",
   "metadata": {},
   "outputs": [],
   "source": [
    "a = 1,2,3,4,5"
   ]
  },
  {
   "cell_type": "code",
   "execution_count": 23,
   "id": "3cfc525a-1efc-4dba-b9f8-41647367c1f8",
   "metadata": {},
   "outputs": [
    {
     "data": {
      "text/plain": [
       "(1, 2, 3, 4, 5)"
      ]
     },
     "execution_count": 23,
     "metadata": {},
     "output_type": "execute_result"
    }
   ],
   "source": [
    "a"
   ]
  },
  {
   "cell_type": "code",
   "execution_count": 29,
   "id": "fcac80e0-7848-466d-8201-8c92f62016ea",
   "metadata": {},
   "outputs": [],
   "source": [
    "a,b,c,d,e,f = 1,22,3,44,True,False"
   ]
  },
  {
   "cell_type": "code",
   "execution_count": 30,
   "id": "ce1af090-ce58-4a46-a478-a692b2ef132e",
   "metadata": {},
   "outputs": [
    {
     "data": {
      "text/plain": [
       "1"
      ]
     },
     "execution_count": 30,
     "metadata": {},
     "output_type": "execute_result"
    }
   ],
   "source": [
    "a"
   ]
  },
  {
   "cell_type": "code",
   "execution_count": 31,
   "id": "8d049d6e-58ed-4047-95ae-3c55dea515ab",
   "metadata": {},
   "outputs": [
    {
     "data": {
      "text/plain": [
       "True"
      ]
     },
     "execution_count": 31,
     "metadata": {},
     "output_type": "execute_result"
    }
   ],
   "source": [
    "e"
   ]
  },
  {
   "cell_type": "code",
   "execution_count": 32,
   "id": "fd9876e7-9ac7-4073-b74d-942cc7fba53d",
   "metadata": {},
   "outputs": [
    {
     "data": {
      "text/plain": [
       "44"
      ]
     },
     "execution_count": 32,
     "metadata": {},
     "output_type": "execute_result"
    }
   ],
   "source": [
    "d"
   ]
  },
  {
   "cell_type": "code",
   "execution_count": 33,
   "id": "0fbf0f92-6195-4eaa-b14a-a2c976e37301",
   "metadata": {},
   "outputs": [
    {
     "data": {
      "text/plain": [
       "False"
      ]
     },
     "execution_count": 33,
     "metadata": {},
     "output_type": "execute_result"
    }
   ],
   "source": [
    "f"
   ]
  },
  {
   "cell_type": "code",
   "execution_count": 34,
   "id": "ffcd21c2-f456-4a93-ae29-43763a62685e",
   "metadata": {},
   "outputs": [
    {
     "data": {
      "text/plain": [
       "(1, 4, 'pwskills', 34, 45)"
      ]
     },
     "execution_count": 34,
     "metadata": {},
     "output_type": "execute_result"
    }
   ],
   "source": [
    "test3()"
   ]
  },
  {
   "cell_type": "code",
   "execution_count": 35,
   "id": "bdf5d847-183e-4b90-b2d9-90c2e857f57b",
   "metadata": {},
   "outputs": [
    {
     "data": {
      "text/plain": [
       "1"
      ]
     },
     "execution_count": 35,
     "metadata": {},
     "output_type": "execute_result"
    }
   ],
   "source": [
    "test3()[0]"
   ]
  },
  {
   "cell_type": "code",
   "execution_count": 36,
   "id": "5649154b-88dd-46ba-9617-6898fd985388",
   "metadata": {},
   "outputs": [
    {
     "data": {
      "text/plain": [
       "34"
      ]
     },
     "execution_count": 36,
     "metadata": {},
     "output_type": "execute_result"
    }
   ],
   "source": [
    "test3()[3]"
   ]
  },
  {
   "cell_type": "code",
   "execution_count": 41,
   "id": "14e67c0c-b4aa-4659-95fd-b71d4ca9a300",
   "metadata": {},
   "outputs": [
    {
     "data": {
      "text/plain": [
       "1"
      ]
     },
     "execution_count": 41,
     "metadata": {},
     "output_type": "execute_result"
    }
   ],
   "source": [
    "test3()[f]"
   ]
  },
  {
   "cell_type": "code",
   "execution_count": 42,
   "id": "d08dc3b9-f821-49fa-8108-16a191118b13",
   "metadata": {},
   "outputs": [],
   "source": [
    "def test4():\n",
    "    a = 3**4+5\n",
    "    return a"
   ]
  },
  {
   "cell_type": "code",
   "execution_count": 43,
   "id": "f6f6f8e0-b8b2-4692-89d9-c3e7022cf557",
   "metadata": {},
   "outputs": [
    {
     "data": {
      "text/plain": [
       "86"
      ]
     },
     "execution_count": 43,
     "metadata": {},
     "output_type": "execute_result"
    }
   ],
   "source": [
    "test4()"
   ]
  },
  {
   "cell_type": "code",
   "execution_count": 44,
   "id": "36f3d5b9-ace7-4367-9253-f61ce9de0771",
   "metadata": {},
   "outputs": [
    {
     "data": {
      "text/plain": [
       "int"
      ]
     },
     "execution_count": 44,
     "metadata": {},
     "output_type": "execute_result"
    }
   ],
   "source": [
    "type(test4())"
   ]
  },
  {
   "cell_type": "code",
   "execution_count": 45,
   "id": "0a9c1348-46fc-459f-82ab-a5fff08ee4e4",
   "metadata": {},
   "outputs": [],
   "source": [
    "def test5(a,b):\n",
    "    c = a+b\n",
    "    return c"
   ]
  },
  {
   "cell_type": "code",
   "execution_count": 46,
   "id": "cac8a948-a267-4df6-bdde-e1cc1c670a07",
   "metadata": {},
   "outputs": [
    {
     "data": {
      "text/plain": [
       "<function __main__.test5(a, b)>"
      ]
     },
     "execution_count": 46,
     "metadata": {},
     "output_type": "execute_result"
    }
   ],
   "source": [
    "test5"
   ]
  },
  {
   "cell_type": "code",
   "execution_count": 47,
   "id": "a81c330f-6b13-4812-b164-2f3ee2ae9c85",
   "metadata": {},
   "outputs": [
    {
     "ename": "TypeError",
     "evalue": "test5() missing 2 required positional arguments: 'a' and 'b'",
     "output_type": "error",
     "traceback": [
      "\u001b[1;31m---------------------------------------------------------------------------\u001b[0m",
      "\u001b[1;31mTypeError\u001b[0m                                 Traceback (most recent call last)",
      "Cell \u001b[1;32mIn[47], line 1\u001b[0m\n\u001b[1;32m----> 1\u001b[0m \u001b[43mtest5\u001b[49m\u001b[43m(\u001b[49m\u001b[43m)\u001b[49m\n",
      "\u001b[1;31mTypeError\u001b[0m: test5() missing 2 required positional arguments: 'a' and 'b'"
     ]
    }
   ],
   "source": [
    "test5()"
   ]
  },
  {
   "cell_type": "code",
   "execution_count": 48,
   "id": "087c8bbe-0a41-4f9f-b5bf-8384f263f586",
   "metadata": {},
   "outputs": [
    {
     "data": {
      "text/plain": [
       "4"
      ]
     },
     "execution_count": 48,
     "metadata": {},
     "output_type": "execute_result"
    }
   ],
   "source": [
    "test5(1,3)"
   ]
  },
  {
   "cell_type": "code",
   "execution_count": 50,
   "id": "9d05027a-161b-4cdf-96e1-5ea29d9d79a6",
   "metadata": {},
   "outputs": [
    {
     "data": {
      "text/plain": [
       "'sudhkumar'"
      ]
     },
     "execution_count": 50,
     "metadata": {},
     "output_type": "execute_result"
    }
   ],
   "source": [
    "test5(\"sudh\" ,\"kumar\")"
   ]
  },
  {
   "cell_type": "code",
   "execution_count": 51,
   "id": "58e3cb7c-94e6-4608-8e53-3d985f3af610",
   "metadata": {},
   "outputs": [
    {
     "data": {
      "text/plain": [
       "[1, 2, 3, 4, 5, 99, 8, 7, 6, 5]"
      ]
     },
     "execution_count": 51,
     "metadata": {},
     "output_type": "execute_result"
    }
   ],
   "source": [
    "test5([1,2,3,4,5], [99,8,7,6,5])"
   ]
  },
  {
   "cell_type": "code",
   "execution_count": 52,
   "id": "8144d0dc-6982-486d-b8ec-3b9ff01d5482",
   "metadata": {},
   "outputs": [
    {
     "data": {
      "text/plain": [
       "'yadavjiabhi'"
      ]
     },
     "execution_count": 52,
     "metadata": {},
     "output_type": "execute_result"
    }
   ],
   "source": [
    "test5(b = \"abhi\" , a = \"yadavji\")"
   ]
  },
  {
   "cell_type": "code",
   "execution_count": 62,
   "id": "02f21fd0-c6e9-4465-b70f-cbcf647bc969",
   "metadata": {},
   "outputs": [],
   "source": [
    "l = [1,2,3,4,5, \"abhi\", \"pwskills\", [1,3,4,5,6]]"
   ]
  },
  {
   "cell_type": "code",
   "execution_count": 63,
   "id": "5ef28b45-56b1-411b-9cdc-229b8f0f7d09",
   "metadata": {},
   "outputs": [],
   "source": [
    "## Create a function which will take list as a input and give me a final list with all the numeric value"
   ]
  },
  {
   "cell_type": "code",
   "execution_count": 66,
   "id": "9113ac0a-4b26-4bdb-9204-7843d0e495c5",
   "metadata": {},
   "outputs": [],
   "source": [
    "def test6(a):\n",
    "    n = []\n",
    "    for i in a:\n",
    "        if type(i) == int or type(i) == float:\n",
    "            n.append(i)\n",
    "    return n"
   ]
  },
  {
   "cell_type": "code",
   "execution_count": 67,
   "id": "2b9db6db-ead3-426b-b757-8e766adb0cff",
   "metadata": {},
   "outputs": [
    {
     "data": {
      "text/plain": [
       "[1, 2, 3, 4, 5]"
      ]
     },
     "execution_count": 67,
     "metadata": {},
     "output_type": "execute_result"
    }
   ],
   "source": [
    "test6(l)"
   ]
  },
  {
   "cell_type": "code",
   "execution_count": 68,
   "id": "0a43da8a-0699-4a96-b19c-5531fa49126f",
   "metadata": {},
   "outputs": [
    {
     "data": {
      "text/plain": [
       "[1, 2, 3, 4, 5, 'abhi', 'pwskills', [1, 3, 4, 5, 6]]"
      ]
     },
     "execution_count": 68,
     "metadata": {},
     "output_type": "execute_result"
    }
   ],
   "source": [
    "l"
   ]
  },
  {
   "cell_type": "code",
   "execution_count": 88,
   "id": "b58cb5be-5b3a-4b0f-a9cb-cae5a9949f86",
   "metadata": {},
   "outputs": [],
   "source": [
    "def test7(a):\n",
    "    n = []\n",
    "    for i in a:\n",
    "        if type(i) == list:\n",
    "            for j in i:\n",
    "                if type(j) == int or type(j) == float:\n",
    "                    n.append(j)\n",
    "        else:\n",
    "            if type(i) == int or type(i) == float:\n",
    "                n.append(i)\n",
    "    return n"
   ]
  },
  {
   "cell_type": "code",
   "execution_count": 89,
   "id": "afb00de5-1faf-481b-abb2-1e2b39c6452e",
   "metadata": {},
   "outputs": [
    {
     "data": {
      "text/plain": [
       "[1, 2, 3, 4, 5, 1, 3, 4, 5, 6]"
      ]
     },
     "execution_count": 89,
     "metadata": {},
     "output_type": "execute_result"
    }
   ],
   "source": [
    "test7(l)"
   ]
  },
  {
   "cell_type": "code",
   "execution_count": 90,
   "id": "638fa16c-1c69-4ade-9455-09297227ffa8",
   "metadata": {},
   "outputs": [
    {
     "data": {
      "text/plain": [
       "[1, 2, 3, 4, 5, 'abhi', 'pwskills', [1, 3, 4, 5, 6]]"
      ]
     },
     "execution_count": 90,
     "metadata": {},
     "output_type": "execute_result"
    }
   ],
   "source": [
    "l"
   ]
  },
  {
   "cell_type": "code",
   "execution_count": null,
   "id": "25a0f3b6-61cf-4a8e-bf64-f59fe54ee3be",
   "metadata": {},
   "outputs": [],
   "source": []
  },
  {
   "cell_type": "code",
   "execution_count": null,
   "id": "c2fe3302-e5f9-4918-a5ec-1c07a2168cf9",
   "metadata": {},
   "outputs": [],
   "source": []
  },
  {
   "cell_type": "markdown",
   "id": "2f762bf2-ec3c-47da-b538-8a6bffa62acd",
   "metadata": {},
   "source": [
    "## function part2 ()"
   ]
  },
  {
   "cell_type": "code",
   "execution_count": 1,
   "id": "7a043cde-ff3d-4369-8461-f513860c830f",
   "metadata": {},
   "outputs": [],
   "source": [
    "def test(a,b,c,d,e):\n",
    "    pass"
   ]
  },
  {
   "cell_type": "code",
   "execution_count": 2,
   "id": "25f600d8-598c-40f1-a501-d4a8efc6e2ff",
   "metadata": {},
   "outputs": [],
   "source": [
    "test(1,2,3,4,5)"
   ]
  },
  {
   "cell_type": "code",
   "execution_count": 3,
   "id": "2958b50c-452d-4346-8bb1-21f771bc83cc",
   "metadata": {},
   "outputs": [
    {
     "data": {
      "text/plain": [
       "<function __main__.test(a, b, c, d, e)>"
      ]
     },
     "execution_count": 3,
     "metadata": {},
     "output_type": "execute_result"
    }
   ],
   "source": [
    "test"
   ]
  },
  {
   "cell_type": "code",
   "execution_count": 4,
   "id": "c6530342-d0a9-4657-9c0a-51be53fb7f07",
   "metadata": {},
   "outputs": [
    {
     "data": {
      "text/plain": [
       "<function __main__.test(a, b, c, d, e)>"
      ]
     },
     "execution_count": 4,
     "metadata": {},
     "output_type": "execute_result"
    }
   ],
   "source": [
    "test"
   ]
  },
  {
   "cell_type": "code",
   "execution_count": 9,
   "id": "8d948ca9-0d24-4dbe-a03f-a3759dcde3b0",
   "metadata": {},
   "outputs": [],
   "source": [
    "def test1(*args):\n",
    "    return args"
   ]
  },
  {
   "cell_type": "code",
   "execution_count": 10,
   "id": "2f888b83-c986-4eaf-9cfd-c688944868eb",
   "metadata": {},
   "outputs": [
    {
     "data": {
      "text/plain": [
       "(2,)"
      ]
     },
     "execution_count": 10,
     "metadata": {},
     "output_type": "execute_result"
    }
   ],
   "source": [
    "test1(2)"
   ]
  },
  {
   "cell_type": "code",
   "execution_count": 11,
   "id": "7e3aefca-00ea-422d-b227-2a38889e6f44",
   "metadata": {},
   "outputs": [
    {
     "data": {
      "text/plain": [
       "(1, 2, 3, 4, 5)"
      ]
     },
     "execution_count": 11,
     "metadata": {},
     "output_type": "execute_result"
    }
   ],
   "source": [
    "test1(1,2,3,4,5)"
   ]
  },
  {
   "cell_type": "code",
   "execution_count": 12,
   "id": "ebdcf44f-6d38-4818-a69e-d80912364696",
   "metadata": {},
   "outputs": [
    {
     "data": {
      "text/plain": [
       "('abhi', [1, 2, 3, 4, 5], (5, 6, 7, 8, 9))"
      ]
     },
     "execution_count": 12,
     "metadata": {},
     "output_type": "execute_result"
    }
   ],
   "source": [
    "test1(\"abhi\",[1,2,3,4,5],(5,6,7,8,9))"
   ]
  },
  {
   "cell_type": "code",
   "execution_count": 13,
   "id": "cf5201b9-cad4-487f-8106-cc36e5d1f499",
   "metadata": {},
   "outputs": [
    {
     "data": {
      "text/plain": [
       "<function __main__.test1(*args)>"
      ]
     },
     "execution_count": 13,
     "metadata": {},
     "output_type": "execute_result"
    }
   ],
   "source": [
    "test1"
   ]
  },
  {
   "cell_type": "code",
   "execution_count": 15,
   "id": "6799ed7c-697b-4a47-b619-1f0dca536677",
   "metadata": {},
   "outputs": [],
   "source": [
    "def test2(*abhi):\n",
    "    return abhi"
   ]
  },
  {
   "cell_type": "code",
   "execution_count": 16,
   "id": "03a7cdb8-b7b4-489a-976a-4688de112f7d",
   "metadata": {},
   "outputs": [
    {
     "data": {
      "text/plain": [
       "(3, 4, 5, 6)"
      ]
     },
     "execution_count": 16,
     "metadata": {},
     "output_type": "execute_result"
    }
   ],
   "source": [
    "test2(3,4,5,6)"
   ]
  },
  {
   "cell_type": "code",
   "execution_count": 18,
   "id": "7085e539-8b2e-4db0-8919-bb9772f8f7a7",
   "metadata": {},
   "outputs": [],
   "source": [
    "def test3(*args,a):\n",
    "    return args, a"
   ]
  },
  {
   "cell_type": "code",
   "execution_count": 19,
   "id": "c8dc91de-2264-4c58-be14-f6770299e42a",
   "metadata": {},
   "outputs": [
    {
     "ename": "TypeError",
     "evalue": "test3() missing 1 required keyword-only argument: 'a'",
     "output_type": "error",
     "traceback": [
      "\u001b[1;31m---------------------------------------------------------------------------\u001b[0m",
      "\u001b[1;31mTypeError\u001b[0m                                 Traceback (most recent call last)",
      "Cell \u001b[1;32mIn[19], line 1\u001b[0m\n\u001b[1;32m----> 1\u001b[0m \u001b[43mtest3\u001b[49m\u001b[43m(\u001b[49m\u001b[38;5;241;43m3\u001b[39;49m\u001b[43m)\u001b[49m\n",
      "\u001b[1;31mTypeError\u001b[0m: test3() missing 1 required keyword-only argument: 'a'"
     ]
    }
   ],
   "source": [
    "test3(3)"
   ]
  },
  {
   "cell_type": "code",
   "execution_count": 20,
   "id": "46075ac7-1074-4f30-801f-7b216f8e52ca",
   "metadata": {},
   "outputs": [
    {
     "data": {
      "text/plain": [
       "((1, 2, 3, 4), 'abhi yadav')"
      ]
     },
     "execution_count": 20,
     "metadata": {},
     "output_type": "execute_result"
    }
   ],
   "source": [
    "test3(1,2,3,4, a = \"abhi yadav\")"
   ]
  },
  {
   "cell_type": "code",
   "execution_count": 43,
   "id": "fe71f16a-1712-4c69-b7e8-d92eb077dfee",
   "metadata": {},
   "outputs": [],
   "source": [
    "def test4(*args):\n",
    "    l = []\n",
    "    for i in args:\n",
    "        if type(i) == list:\n",
    "            l.append(i)\n",
    "            \n",
    "    return l"
   ]
  },
  {
   "cell_type": "code",
   "execution_count": 44,
   "id": "06d6c1f1-e45f-4f2c-8891-6c01bd7ca7ad",
   "metadata": {},
   "outputs": [
    {
     "data": {
      "text/plain": [
       "[[1, 2, 3, 4, 4, 4], [4, 5, 6], [6, 7, 8]]"
      ]
     },
     "execution_count": 44,
     "metadata": {},
     "output_type": "execute_result"
    }
   ],
   "source": [
    "test4(1,2,3,[1,2,3,4,4,4], (1,2,3,4,4,4), \"abhi yadav\",[4,5,6], [6,7,8])"
   ]
  },
  {
   "cell_type": "code",
   "execution_count": 45,
   "id": "82628425-c4b0-4b34-a017-b955ca67c7b3",
   "metadata": {},
   "outputs": [],
   "source": [
    "def test5(**kwargs):\n",
    "    return kwargs"
   ]
  },
  {
   "cell_type": "code",
   "execution_count": 46,
   "id": "ab2f6b72-24b6-4a2b-82ab-69b923a1848a",
   "metadata": {},
   "outputs": [
    {
     "data": {
      "text/plain": [
       "{}"
      ]
     },
     "execution_count": 46,
     "metadata": {},
     "output_type": "execute_result"
    }
   ],
   "source": [
    "test5()"
   ]
  },
  {
   "cell_type": "code",
   "execution_count": 48,
   "id": "18956e98-f30a-4864-bf6a-b9128642d262",
   "metadata": {},
   "outputs": [
    {
     "data": {
      "text/plain": [
       "dict"
      ]
     },
     "execution_count": 48,
     "metadata": {},
     "output_type": "execute_result"
    }
   ],
   "source": [
    "type(test5())"
   ]
  },
  {
   "cell_type": "code",
   "execution_count": 49,
   "id": "bd9b2e22-74c1-4eb2-b116-45b127e4f505",
   "metadata": {},
   "outputs": [
    {
     "data": {
      "text/plain": [
       "{'a': 34, 'b': 23, 'c': [1, 2, 3, 4], 'd': ('abhi', 'pwskills')}"
      ]
     },
     "execution_count": 49,
     "metadata": {},
     "output_type": "execute_result"
    }
   ],
   "source": [
    "test5(a = 34, b = 23,c = [1,2,3,4], d = (\"abhi\", \"pwskills\"))"
   ]
  },
  {
   "cell_type": "code",
   "execution_count": 55,
   "id": "a9c7336c-0fc4-45bd-b69a-3d1fbc76807d",
   "metadata": {},
   "outputs": [],
   "source": [
    "def test6(**kwargs):\n",
    "    for i in kwargs.keys():\n",
    "        if type(kwargs[i]) == list :\n",
    "            return i , kwargs[i]"
   ]
  },
  {
   "cell_type": "code",
   "execution_count": 56,
   "id": "c60e6b9c-5c44-4139-90ed-8df997120e10",
   "metadata": {},
   "outputs": [
    {
     "data": {
      "text/plain": [
       "('c', [1, 2, 3, 4])"
      ]
     },
     "execution_count": 56,
     "metadata": {},
     "output_type": "execute_result"
    }
   ],
   "source": [
    "test6(a = 34, b = 23,c = [1,2,3,4], d = (\"abhi\", \"pwskills\"))"
   ]
  },
  {
   "cell_type": "code",
   "execution_count": 57,
   "id": "5e194cf5-24f1-48aa-ba08-483fb6b80b27",
   "metadata": {},
   "outputs": [],
   "source": [
    "def test7(*args, **kwargs):\n",
    "    return args, kwargs"
   ]
  },
  {
   "cell_type": "code",
   "execution_count": 58,
   "id": "e894fc9f-3911-468f-9058-efae109aa9cc",
   "metadata": {},
   "outputs": [
    {
     "data": {
      "text/plain": [
       "((2, 3, 4, 5), {'a': 34, 'b': 98})"
      ]
     },
     "execution_count": 58,
     "metadata": {},
     "output_type": "execute_result"
    }
   ],
   "source": [
    "test7(2,3,4,5, a = 34, b = 98)"
   ]
  },
  {
   "cell_type": "code",
   "execution_count": null,
   "id": "ea63a3bb-8c67-421c-8b57-062bed8f9306",
   "metadata": {},
   "outputs": [],
   "source": []
  }
 ],
 "metadata": {
  "kernelspec": {
   "display_name": "Python 3 (ipykernel)",
   "language": "python",
   "name": "python3"
  },
  "language_info": {
   "codemirror_mode": {
    "name": "ipython",
    "version": 3
   },
   "file_extension": ".py",
   "mimetype": "text/x-python",
   "name": "python",
   "nbconvert_exporter": "python",
   "pygments_lexer": "ipython3",
   "version": "3.11.7"
  }
 },
 "nbformat": 4,
 "nbformat_minor": 5
}
